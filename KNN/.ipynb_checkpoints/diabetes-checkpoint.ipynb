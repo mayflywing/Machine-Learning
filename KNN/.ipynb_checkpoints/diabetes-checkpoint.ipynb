{
 "cells": [
  {
   "cell_type": "markdown",
   "metadata": {},
   "source": [
    "# DataSet : Diabetes"
   ]
  },
  {
   "cell_type": "markdown",
   "metadata": {},
   "source": [
    "## pakages"
   ]
  },
  {
   "cell_type": "code",
   "execution_count": 2,
   "metadata": {},
   "outputs": [],
   "source": [
    "import numpy as np\n",
    "import math\n",
    "import operator\n",
    "import pandas as pd\n",
    "import matplotlib.pyplot as plt\n",
    "import seaborn as sns\n",
    "from sklearn.neighbors import KNeighborsClassifier\n",
    "from sklearn.model_selection import KFold\n",
    "from sklearn.model_selection import train_test_split\n",
    "from sklearn.preprocessing import StandardScaler\n",
    "from sklearn.metrics import confusion_matrix\n",
    "import time"
   ]
  },
  {
   "cell_type": "code",
   "execution_count": 51,
   "metadata": {},
   "outputs": [
    {
     "data": {
      "text/plain": [
       "array([[-1.        , -1.        ],\n",
       "       [ 1.        ,  1.        ],\n",
       "       [ 0.        , -0.14285714]])"
      ]
     },
     "execution_count": 51,
     "metadata": {},
     "output_type": "execute_result"
    }
   ],
   "source": [
    "def min_max_scale(array,expect_min=-1,expect_max=1):\n",
    "    for i in range(len(array.T)):\n",
    "        column = array.T[i]\n",
    "        array.T[i] = (column-np.min(column))/(np.max(column)-np.min(column))*(expect_max-expect_min)+expect_min\n",
    "    return array\n",
    "\n",
    "a = np.array([[0,-3],[1,4],[0.5,0]])\n",
    "min_max_scale(a,-1,1)"
   ]
  },
  {
   "cell_type": "code",
   "execution_count": 52,
   "metadata": {},
   "outputs": [
    {
     "name": "stdout",
     "output_type": "stream",
     "text": [
      "[0.5 0. ]\n",
      "[0.40824829 0.81649658]\n",
      "[0. 0.]\n",
      "[1. 1.]\n"
     ]
    }
   ],
   "source": [
    "def mean_deviation_scale(array,expect_mean=0,expect_diviation=1):\n",
    "    for i in range(len(array.T)):\n",
    "        column = array.T[i]\n",
    "        array.T[i] = (column-np.mean(column))/(np.std(column))*expect_diviation\n",
    "    return array\n",
    "\n",
    "a = np.array([[0,-1],[1,1],[0.5,0]])\n",
    "print(a.mean(axis=0))\n",
    "print(a.std(axis=0))\n",
    "\n",
    "b = mean_deviation_scale(a,0,1)\n",
    "\n",
    "print(b.mean(axis=0))\n",
    "print(b.std(axis=0))"
   ]
  },
  {
   "cell_type": "code",
   "execution_count": 68,
   "metadata": {},
   "outputs": [
    {
     "data": {
      "text/plain": [
       "(1, 1, 0, 0)"
      ]
     },
     "execution_count": 68,
     "metadata": {},
     "output_type": "execute_result"
    }
   ],
   "source": [
    "def binary_confusion_matrix(prediction,labels):\n",
    "    '''label is 0 or 1'''\n",
    "    assert(len(prediction)==len(labels))\n",
    "    TP=0\n",
    "    TN=0\n",
    "    FP=0\n",
    "    FN=0\n",
    "    for i in range(len(prediction)):\n",
    "        pred = prediction[i]\n",
    "        label = labels[i]\n",
    "        if(pred==1):\n",
    "            if(label==pred):\n",
    "                TP+=1\n",
    "            else:\n",
    "                FP+=1\n",
    "        else:\n",
    "            if(label==pred):\n",
    "                TN+=1\n",
    "            else:\n",
    "                FN+=1\n",
    "    return TP,TN,FP,FN\n",
    "\n",
    "a=[1,0]\n",
    "b=[1,0]\n",
    "binary_confusion_matrix(a,b)"
   ]
  },
  {
   "cell_type": "code",
   "execution_count": 77,
   "metadata": {},
   "outputs": [
    {
     "name": "stdout",
     "output_type": "stream",
     "text": [
      "[[0 0 0]\n",
      " [0 0 0]\n",
      " [0 0 0]]\n"
     ]
    },
    {
     "data": {
      "text/plain": [
       "array([[1, 0, 0],\n",
       "       [0, 1, 0],\n",
       "       [0, 1, 0]])"
      ]
     },
     "execution_count": 77,
     "metadata": {},
     "output_type": "execute_result"
    }
   ],
   "source": [
    "def confusion_matrix(prediction,labels):\n",
    "    '''label is a digit'''\n",
    "    assert(len(prediction)==len(labels))\n",
    "    \n",
    "    length =len(prediction)\n",
    "    res = np.zeros([length,length],dtype = int)\n",
    "    print(res)\n",
    "    \n",
    "    for i in range(length):\n",
    "        res[labels[i]-1][prediction[i]-1]+=1\n",
    "    \n",
    "    return res\n",
    "\n",
    "a = [1,2,2]\n",
    "b = [1,2,3]\n",
    "\n",
    "confusion_matrix(a,b)       "
   ]
  },
  {
   "cell_type": "code",
   "execution_count": 2,
   "metadata": {},
   "outputs": [],
   "source": [
    "'''\n",
    "EulidianDistance\n",
    "'''\n",
    "def euclidianDistance(list1, list2):\n",
    "    distance = 0\n",
    "    for x in range(len(list1)):\n",
    "        distance += pow(list1[x] - list2[x], 2)\n",
    "    return math.sqrt(distance)\n"
   ]
  },
  {
   "cell_type": "code",
   "execution_count": 3,
   "metadata": {},
   "outputs": [],
   "source": [
    "'''\n",
    "ManhattenDistance\n",
    "'''\n",
    "def manhattenDistance(list1, list2):\n",
    "    distance = 0\n",
    "    for x in range(len(list1)):\n",
    "        distance += abs(list1[x] - list2[x])\n",
    "    return distance\n"
   ]
  },
  {
   "cell_type": "code",
   "execution_count": 4,
   "metadata": {},
   "outputs": [],
   "source": [
    "'''\n",
    "ChebyshevDistance\n",
    "'''\n",
    "def chebyshevDistance(list1, list2):\n",
    "    distance = 0\n",
    "    for x in range(len(list1)):\n",
    "        distance = max(distance,abs(list1[x] - list2[x]))\n",
    "    return distance\n",
    "       "
   ]
  },
  {
   "cell_type": "code",
   "execution_count": 5,
   "metadata": {},
   "outputs": [],
   "source": [
    "'''\n",
    "    calculate the distance using 3 diffirent functions\n",
    "    return the top k neighbors\n",
    "'''\n",
    "def getNeighbors(train_set,y_train,test_sample, k, function =1):\n",
    "    #1 = EulidianDistance 2 = ManhattenDistance 3 = ChebyshevDistance\n",
    "    distances = []\n",
    "    neighbors = []\n",
    "\n",
    "    for x in range(len(train_set)):\n",
    "        if(function==1):\n",
    "            dist = euclidianDistance(test_sample, train_set[x])\n",
    "        elif(function==2):\n",
    "            dist = manhattenDistance(test_sample, train_set[x])\n",
    "        elif(function==3):\n",
    "            dist = chebyshevDistance(test_sample, train_set[x])\n",
    "        else:\n",
    "            dist = 0;\n",
    "        \n",
    "        distances.append((y_train[x], dist))\n",
    "\n",
    "    distances.sort(key=operator.itemgetter(1))\n",
    "    #print(distances)\n",
    "\n",
    "    for x in range(k):\n",
    "        neighbors.append(distances[x][0])\n",
    "\n",
    "    return neighbors"
   ]
  },
  {
   "cell_type": "code",
   "execution_count": 6,
   "metadata": {},
   "outputs": [],
   "source": [
    "def getLabel(neighbors):\n",
    "    classVotes = {}\n",
    "    for x in range(len(neighbors)):\n",
    "        response = neighbors[x]\n",
    "        if response in classVotes:\n",
    "            classVotes[response] += 1\n",
    "        else:\n",
    "            classVotes[response] = 1\n",
    "    sortedVotes = sorted(classVotes.items(),key=lambda kv: kv[1],reverse = True)\n",
    "    return sortedVotes[0][0]"
   ]
  },
  {
   "cell_type": "code",
   "execution_count": 7,
   "metadata": {},
   "outputs": [],
   "source": [
    "'''\n",
    "    calculates the accuarcy of predictions by taking\n",
    "    a ratio of total correct prediction out of all predictions\n",
    "'''\n",
    "def getAccuracy(testSet, predictions):\n",
    "    correct = 0\n",
    "    for x in range(len(testSet)):\n",
    "        if testSet[x] == predictions[x]:\n",
    "            correct += 1\n",
    "    return round((correct/float(len(testSet))) * 100.0, 3)"
   ]
  },
  {
   "cell_type": "code",
   "execution_count": 8,
   "metadata": {},
   "outputs": [
    {
     "name": "stdout",
     "output_type": "stream",
     "text": [
      "CPU times: user 8 ms, sys: 0 ns, total: 8 ms\n",
      "Wall time: 9.8 ms\n"
     ]
    }
   ],
   "source": [
    "%%time\n",
    "# Loading the data\n",
    "df_diabetes=pd.read_csv('../input/pima-indians-diabetes-database/diabetes.csv')"
   ]
  },
  {
   "cell_type": "markdown",
   "metadata": {},
   "source": [
    "## EDA"
   ]
  },
  {
   "cell_type": "code",
   "execution_count": 9,
   "metadata": {},
   "outputs": [
    {
     "data": {
      "text/html": [
       "<div>\n",
       "<style scoped>\n",
       "    .dataframe tbody tr th:only-of-type {\n",
       "        vertical-align: middle;\n",
       "    }\n",
       "\n",
       "    .dataframe tbody tr th {\n",
       "        vertical-align: top;\n",
       "    }\n",
       "\n",
       "    .dataframe thead th {\n",
       "        text-align: right;\n",
       "    }\n",
       "</style>\n",
       "<table border=\"1\" class=\"dataframe\">\n",
       "  <thead>\n",
       "    <tr style=\"text-align: right;\">\n",
       "      <th></th>\n",
       "      <th>Pregnancies</th>\n",
       "      <th>Glucose</th>\n",
       "      <th>BloodPressure</th>\n",
       "      <th>SkinThickness</th>\n",
       "      <th>Insulin</th>\n",
       "      <th>BMI</th>\n",
       "      <th>DiabetesPedigreeFunction</th>\n",
       "      <th>Age</th>\n",
       "      <th>Outcome</th>\n",
       "    </tr>\n",
       "  </thead>\n",
       "  <tbody>\n",
       "    <tr>\n",
       "      <td>0</td>\n",
       "      <td>6</td>\n",
       "      <td>148</td>\n",
       "      <td>72</td>\n",
       "      <td>35</td>\n",
       "      <td>0</td>\n",
       "      <td>33.6</td>\n",
       "      <td>0.627</td>\n",
       "      <td>50</td>\n",
       "      <td>1</td>\n",
       "    </tr>\n",
       "    <tr>\n",
       "      <td>1</td>\n",
       "      <td>1</td>\n",
       "      <td>85</td>\n",
       "      <td>66</td>\n",
       "      <td>29</td>\n",
       "      <td>0</td>\n",
       "      <td>26.6</td>\n",
       "      <td>0.351</td>\n",
       "      <td>31</td>\n",
       "      <td>0</td>\n",
       "    </tr>\n",
       "    <tr>\n",
       "      <td>2</td>\n",
       "      <td>8</td>\n",
       "      <td>183</td>\n",
       "      <td>64</td>\n",
       "      <td>0</td>\n",
       "      <td>0</td>\n",
       "      <td>23.3</td>\n",
       "      <td>0.672</td>\n",
       "      <td>32</td>\n",
       "      <td>1</td>\n",
       "    </tr>\n",
       "    <tr>\n",
       "      <td>3</td>\n",
       "      <td>1</td>\n",
       "      <td>89</td>\n",
       "      <td>66</td>\n",
       "      <td>23</td>\n",
       "      <td>94</td>\n",
       "      <td>28.1</td>\n",
       "      <td>0.167</td>\n",
       "      <td>21</td>\n",
       "      <td>0</td>\n",
       "    </tr>\n",
       "    <tr>\n",
       "      <td>4</td>\n",
       "      <td>0</td>\n",
       "      <td>137</td>\n",
       "      <td>40</td>\n",
       "      <td>35</td>\n",
       "      <td>168</td>\n",
       "      <td>43.1</td>\n",
       "      <td>2.288</td>\n",
       "      <td>33</td>\n",
       "      <td>1</td>\n",
       "    </tr>\n",
       "  </tbody>\n",
       "</table>\n",
       "</div>"
      ],
      "text/plain": [
       "   Pregnancies  Glucose  BloodPressure  SkinThickness  Insulin   BMI  \\\n",
       "0            6      148             72             35        0  33.6   \n",
       "1            1       85             66             29        0  26.6   \n",
       "2            8      183             64              0        0  23.3   \n",
       "3            1       89             66             23       94  28.1   \n",
       "4            0      137             40             35      168  43.1   \n",
       "\n",
       "   DiabetesPedigreeFunction  Age  Outcome  \n",
       "0                     0.627   50        1  \n",
       "1                     0.351   31        0  \n",
       "2                     0.672   32        1  \n",
       "3                     0.167   21        0  \n",
       "4                     2.288   33        1  "
      ]
     },
     "execution_count": 9,
     "metadata": {},
     "output_type": "execute_result"
    }
   ],
   "source": [
    "df_diabetes.head()"
   ]
  },
  {
   "cell_type": "code",
   "execution_count": 10,
   "metadata": {},
   "outputs": [
    {
     "name": "stdout",
     "output_type": "stream",
     "text": [
      "<class 'pandas.core.frame.DataFrame'>\n",
      "RangeIndex: 768 entries, 0 to 767\n",
      "Data columns (total 9 columns):\n",
      "Pregnancies                 768 non-null int64\n",
      "Glucose                     768 non-null int64\n",
      "BloodPressure               768 non-null int64\n",
      "SkinThickness               768 non-null int64\n",
      "Insulin                     768 non-null int64\n",
      "BMI                         768 non-null float64\n",
      "DiabetesPedigreeFunction    768 non-null float64\n",
      "Age                         768 non-null int64\n",
      "Outcome                     768 non-null int64\n",
      "dtypes: float64(2), int64(7)\n",
      "memory usage: 54.1 KB\n"
     ]
    }
   ],
   "source": [
    "df_diabetes.info() "
   ]
  },
  {
   "cell_type": "code",
   "execution_count": 11,
   "metadata": {
    "scrolled": true
   },
   "outputs": [
    {
     "data": {
      "text/plain": [
       "Pregnancies                 0\n",
       "Glucose                     0\n",
       "BloodPressure               0\n",
       "SkinThickness               0\n",
       "Insulin                     0\n",
       "BMI                         0\n",
       "DiabetesPedigreeFunction    0\n",
       "Age                         0\n",
       "Outcome                     0\n",
       "dtype: int64"
      ]
     },
     "execution_count": 11,
     "metadata": {},
     "output_type": "execute_result"
    }
   ],
   "source": [
    "df_diabetes.isnull().sum()"
   ]
  },
  {
   "cell_type": "code",
   "execution_count": 12,
   "metadata": {},
   "outputs": [
    {
     "data": {
      "image/png": "[encoded data removed]",
      "text/plain": [
       "<Figure size 576x576 with 9 Axes>"
      ]
     },
     "metadata": {
      "needs_background": "light"
     },
     "output_type": "display_data"
    }
   ],
   "source": [
    "#data visualize\n",
    "p = df_diabetes.hist(figsize = (8,8))"
   ]
  },
  {
   "cell_type": "markdown",
   "metadata": {},
   "source": [
    "from the data we can find that there are some unreasonable data which should not equal to 0, for this part we can delete them or find a reasonable value for them\n",
    "GlucosePlasma ：glucose concentration a 2 hours in an oral glucose tolerance test\n",
    "BloodPressure： Diastolic blood pressure (mm Hg)\n",
    "SkinThicknessTriceps： skin fold thickness (mm)\n",
    "Insulin： 2-Hour serum insulin (mu U/ml)\n",
    "BMI：Body mass index (weight in kg/(height in m)^2)\n",
    "DiabetesPedigreeFunction：Diabetes pedigree function\n",
    "Age：Age (years)\n",
    "From the defination of these features we can find that for GlucosePlasma, BloodPressure, SkinThicknessTriceps, Insulin, BMI and age, these features should not be 0."
   ]
  },
  {
   "cell_type": "code",
   "execution_count": 13,
   "metadata": {},
   "outputs": [
    {
     "name": "stdout",
     "output_type": "stream",
     "text": [
      "Pregnancies                   0\n",
      "Glucose                       5\n",
      "BloodPressure                35\n",
      "SkinThickness               227\n",
      "Insulin                     374\n",
      "BMI                          11\n",
      "DiabetesPedigreeFunction      0\n",
      "Age                           0\n",
      "Outcome                       0\n",
      "dtype: int64\n"
     ]
    }
   ],
   "source": [
    "# Count 0 numbers we change the o to NA.\n",
    "diabetes_data_copy = df_diabetes.copy(deep = True)\n",
    "diabetes_data_copy[['Glucose','BloodPressure','SkinThickness','Insulin','BMI','Age']] = diabetes_data_copy[['Glucose','BloodPressure','SkinThickness','Insulin','BMI','Age']].replace(0,np.NaN)\n",
    "## showing the count of Nans\n",
    "print(diabetes_data_copy.isnull().sum())\n",
    "del diabetes_data_copy"
   ]
  },
  {
   "cell_type": "markdown",
   "metadata": {},
   "source": [
    "### data cleaning\n",
    "As we have only 768 lines data, these zero data take a large position. Thus we should not delete them, and we can use several ways to take place of these 0 values, and based on the best score we get to get the best way. For this baseline we just use the median or mean of these features."
   ]
  },
  {
   "cell_type": "code",
   "execution_count": 14,
   "metadata": {},
   "outputs": [
    {
     "name": "stdout",
     "output_type": "stream",
     "text": [
      "CPU times: user 4 ms, sys: 0 ns, total: 4 ms\n",
      "Wall time: 2.69 ms\n"
     ]
    }
   ],
   "source": [
    "%%time\n",
    "# analyze the distribution of the data, we simplely use the mean value for Glucose and BloodPressure, and we use midian for SkinThickness, Insyline and BMI. \n",
    "df_diabetes['Glucose'].fillna(df_diabetes['Glucose'].mean(), inplace = True)\n",
    "df_diabetes['BloodPressure'].fillna(df_diabetes['BloodPressure'].mean(), inplace = True)\n",
    "df_diabetes['SkinThickness'].fillna(df_diabetes['SkinThickness'].median(), inplace = True)\n",
    "df_diabetes['Insulin'].fillna(df_diabetes['Insulin'].median(), inplace = True)\n",
    "df_diabetes['BMI'].fillna(df_diabetes['BMI'].median(), inplace = True)"
   ]
  },
  {
   "cell_type": "markdown",
   "metadata": {},
   "source": [
    "### feature engineering"
   ]
  },
  {
   "cell_type": "code",
   "execution_count": 15,
   "metadata": {},
   "outputs": [
    {
     "name": "stdout",
     "output_type": "stream",
     "text": [
      "CPU times: user 108 ms, sys: 8 ms, total: 116 ms\n",
      "Wall time: 113 ms\n"
     ]
    },
    {
     "data": {
      "text/plain": [
       "Text(0.5, 1.0, 'Pair-wise correlation')"
      ]
     },
     "execution_count": 15,
     "metadata": {},
     "output_type": "execute_result"
    },
    {
     "data": {
      "image/png": "[encoded data removed]",
      "text/plain": [
       "<Figure size 432x432 with 2 Axes>"
      ]
     },
     "metadata": {
      "needs_background": "light"
     },
     "output_type": "display_data"
    }
   ],
   "source": [
    "%%time\n",
    "# The relationship between features\n",
    "# Plot correlation\n",
    "columns_corr = ['Glucose','BloodPressure','SkinThickness','Insulin','BMI','Age','DiabetesPedigreeFunction','Pregnancies']\n",
    "colormap = plt.cm.RdBu\n",
    "plt.figure(figsize=(6,6))\n",
    "sns.heatmap(df_diabetes[columns_corr].astype(float).corr(), linewidths=0.05, vmax=1.0, vmin=-1.0, square=True, cmap=colormap, linecolor='white', annot=True)\n",
    "plt.title('Pair-wise correlation')"
   ]
  },
  {
   "cell_type": "markdown",
   "metadata": {},
   "source": [
    "From the pic of correlation of each pair of feature, we found that there is no need to decrease the dimension"
   ]
  },
  {
   "cell_type": "markdown",
   "metadata": {},
   "source": [
    "## Scaling the data\n",
    " \n",
    "As the data have very different range of value, we need to scal the data to make it easy to train."
   ]
  },
  {
   "cell_type": "code",
   "execution_count": 16,
   "metadata": {},
   "outputs": [
    {
     "name": "stdout",
     "output_type": "stream",
     "text": [
      "CPU times: user 4 ms, sys: 8 ms, total: 12 ms\n",
      "Wall time: 6.33 ms\n"
     ]
    }
   ],
   "source": [
    "%%time\n",
    "df_diabetes_scal=df_diabetes.copy()\n",
    "sc_X = StandardScaler()\n",
    "X =  pd.DataFrame(sc_X.fit_transform(df_diabetes_scal.drop([\"Outcome\"],axis=1),),\n",
    "        columns=['Pregnancies', 'Glucose', 'BloodPressure', 'SkinThickness', 'Insulin', 'BMI', 'DiabetesPedigreeFunction', 'Age'])"
   ]
  },
  {
   "cell_type": "code",
   "execution_count": 17,
   "metadata": {},
   "outputs": [
    {
     "data": {
      "text/html": [
       "<div>\n",
       "<style scoped>\n",
       "    .dataframe tbody tr th:only-of-type {\n",
       "        vertical-align: middle;\n",
       "    }\n",
       "\n",
       "    .dataframe tbody tr th {\n",
       "        vertical-align: top;\n",
       "    }\n",
       "\n",
       "    .dataframe thead th {\n",
       "        text-align: right;\n",
       "    }\n",
       "</style>\n",
       "<table border=\"1\" class=\"dataframe\">\n",
       "  <thead>\n",
       "    <tr style=\"text-align: right;\">\n",
       "      <th></th>\n",
       "      <th>Pregnancies</th>\n",
       "      <th>Glucose</th>\n",
       "      <th>BloodPressure</th>\n",
       "      <th>SkinThickness</th>\n",
       "      <th>Insulin</th>\n",
       "      <th>BMI</th>\n",
       "      <th>DiabetesPedigreeFunction</th>\n",
       "      <th>Age</th>\n",
       "    </tr>\n",
       "  </thead>\n",
       "  <tbody>\n",
       "    <tr>\n",
       "      <td>0</td>\n",
       "      <td>0.639947</td>\n",
       "      <td>0.848324</td>\n",
       "      <td>0.149641</td>\n",
       "      <td>0.907270</td>\n",
       "      <td>-0.692891</td>\n",
       "      <td>0.204013</td>\n",
       "      <td>0.468492</td>\n",
       "      <td>1.425995</td>\n",
       "    </tr>\n",
       "    <tr>\n",
       "      <td>1</td>\n",
       "      <td>-0.844885</td>\n",
       "      <td>-1.123396</td>\n",
       "      <td>-0.160546</td>\n",
       "      <td>0.530902</td>\n",
       "      <td>-0.692891</td>\n",
       "      <td>-0.684422</td>\n",
       "      <td>-0.365061</td>\n",
       "      <td>-0.190672</td>\n",
       "    </tr>\n",
       "    <tr>\n",
       "      <td>2</td>\n",
       "      <td>1.233880</td>\n",
       "      <td>1.943724</td>\n",
       "      <td>-0.263941</td>\n",
       "      <td>-1.288212</td>\n",
       "      <td>-0.692891</td>\n",
       "      <td>-1.103255</td>\n",
       "      <td>0.604397</td>\n",
       "      <td>-0.105584</td>\n",
       "    </tr>\n",
       "    <tr>\n",
       "      <td>3</td>\n",
       "      <td>-0.844885</td>\n",
       "      <td>-0.998208</td>\n",
       "      <td>-0.160546</td>\n",
       "      <td>0.154533</td>\n",
       "      <td>0.123302</td>\n",
       "      <td>-0.494043</td>\n",
       "      <td>-0.920763</td>\n",
       "      <td>-1.041549</td>\n",
       "    </tr>\n",
       "    <tr>\n",
       "      <td>4</td>\n",
       "      <td>-1.141852</td>\n",
       "      <td>0.504055</td>\n",
       "      <td>-1.504687</td>\n",
       "      <td>0.907270</td>\n",
       "      <td>0.765836</td>\n",
       "      <td>1.409746</td>\n",
       "      <td>5.484909</td>\n",
       "      <td>-0.020496</td>\n",
       "    </tr>\n",
       "  </tbody>\n",
       "</table>\n",
       "</div>"
      ],
      "text/plain": [
       "   Pregnancies   Glucose  BloodPressure  SkinThickness   Insulin       BMI  \\\n",
       "0     0.639947  0.848324       0.149641       0.907270 -0.692891  0.204013   \n",
       "1    -0.844885 -1.123396      -0.160546       0.530902 -0.692891 -0.684422   \n",
       "2     1.233880  1.943724      -0.263941      -1.288212 -0.692891 -1.103255   \n",
       "3    -0.844885 -0.998208      -0.160546       0.154533  0.123302 -0.494043   \n",
       "4    -1.141852  0.504055      -1.504687       0.907270  0.765836  1.409746   \n",
       "\n",
       "   DiabetesPedigreeFunction       Age  \n",
       "0                  0.468492  1.425995  \n",
       "1                 -0.365061 -0.190672  \n",
       "2                  0.604397 -0.105584  \n",
       "3                 -0.920763 -1.041549  \n",
       "4                  5.484909 -0.020496  "
      ]
     },
     "execution_count": 17,
     "metadata": {},
     "output_type": "execute_result"
    }
   ],
   "source": [
    "X.head()"
   ]
  },
  {
   "cell_type": "code",
   "execution_count": 18,
   "metadata": {},
   "outputs": [],
   "source": [
    "y=df_diabetes['Outcome']\n",
    "del df_diabetes"
   ]
  },
  {
   "cell_type": "code",
   "execution_count": 19,
   "metadata": {},
   "outputs": [],
   "source": [
    "def knn(k, X_train,X_test,y_train,y_test,function=1):\n",
    "    #X= features y= outcome\n",
    "    #1 = EulidianDistance 2 = ManhattenDistance 3 = ChebyshevDistance\n",
    "    if(function==1):\n",
    "        distanceType=\"Eulidian Distance\"\n",
    "    elif(function==2):\n",
    "        distanceType=\"Manhatten Distance\"\n",
    "    elif(function==3):\n",
    "        distanceType=\"Chebyshev Distance\"\n",
    "    else:\n",
    "        distanceType = \"error\"\n",
    "    print('*******************************************')\n",
    "    print('************    K = ', k , '  *************')\n",
    "    print('******   Distance = ',distanceType,'*******')\n",
    "    predictions = []\n",
    "\n",
    "    print('--> Calculating KNN...')\n",
    "    for test_sample in X_test:\n",
    "        neighbors = getNeighbors(X_train, y_train,test_sample, k,function)\n",
    "        neighbors_prediction = getLabel(neighbors)\n",
    "        predictions.append(neighbors_prediction)\n",
    "        \n",
    "    print(predictions)    \n",
    "    print('--> Calculating Accuracy...')\n",
    "    accuracy = getAccuracy(y_test,predictions)\n",
    "    print('Accuracy = ', accuracy, '%')\n",
    "    \n",
    "    return predictions"
   ]
  },
  {
   "cell_type": "markdown",
   "metadata": {},
   "source": [
    "## Split data set to train, validation and test\n",
    "We will split data to two part: the 90% train data set and 10% test set(Which was told by our professor in class)."
   ]
  },
  {
   "cell_type": "code",
   "execution_count": 20,
   "metadata": {},
   "outputs": [],
   "source": [
    "X_train,X_test,y_train,y_test = train_test_split(X,y,test_size=0.1,random_state=42, stratify=y)\n",
    "nX_train  = X_train.values.tolist()\n",
    "nX_test  = X_test.values.tolist()\n",
    "ny_train  = y_train.values.tolist()\n",
    "ny_test  = y_test.values.tolist()"
   ]
  },
  {
   "cell_type": "markdown",
   "metadata": {},
   "source": [
    "## Algorithm Results\n",
    "### false positive, false negative, true positive and true negatives."
   ]
  },
  {
   "cell_type": "code",
   "execution_count": 21,
   "metadata": {},
   "outputs": [
    {
     "name": "stdout",
     "output_type": "stream",
     "text": [
      "*******************************************\n",
      "************    K =  1   *************\n",
      "******   Distance =  Eulidian Distance *******\n",
      "--> Calculating KNN...\n",
      "[0, 1, 1, 1, 0, 1, 1, 1, 0, 0, 0, 0, 1, 0, 0, 1, 0, 1, 0, 0, 0, 0, 1, 0, 0, 0, 0, 0, 0, 0, 1, 0, 0, 0, 1, 1, 1, 0, 0, 1, 0, 0, 1, 0, 0, 0, 0, 1, 0, 0, 0, 1, 1, 0, 0, 1, 1, 0, 1, 0, 0, 1, 1, 0, 1, 0, 0, 0, 0, 0, 0, 0, 1, 0, 0, 0, 0]\n",
      "--> Calculating Accuracy...\n",
      "Accuracy =  72.727 %\n",
      "The the count of true negatives is 40, false negatives is 11, true positives is 16, and false positives is 10\n",
      "*******************************************\n",
      "************    K =  2   *************\n",
      "******   Distance =  Eulidian Distance *******\n",
      "--> Calculating KNN...\n",
      "[0, 1, 1, 1, 0, 1, 1, 1, 0, 0, 0, 0, 1, 0, 0, 1, 0, 1, 0, 0, 0, 0, 1, 0, 0, 0, 0, 0, 0, 0, 1, 0, 0, 0, 1, 1, 1, 0, 0, 1, 0, 0, 1, 0, 0, 0, 0, 1, 0, 0, 0, 1, 1, 0, 0, 1, 1, 0, 1, 0, 0, 1, 1, 0, 1, 0, 0, 0, 0, 0, 0, 0, 1, 0, 0, 0, 0]\n",
      "--> Calculating Accuracy...\n",
      "Accuracy =  72.727 %\n",
      "The the count of true negatives is 40, false negatives is 11, true positives is 16, and false positives is 10\n",
      "*******************************************\n",
      "************    K =  3   *************\n",
      "******   Distance =  Eulidian Distance *******\n",
      "--> Calculating KNN...\n",
      "[0, 1, 1, 1, 0, 0, 1, 1, 0, 0, 0, 0, 0, 0, 0, 1, 0, 1, 0, 0, 0, 0, 0, 0, 0, 0, 0, 0, 0, 0, 1, 1, 0, 0, 1, 0, 1, 1, 0, 0, 0, 0, 1, 0, 1, 1, 0, 1, 0, 0, 0, 1, 1, 0, 0, 1, 1, 0, 1, 0, 0, 1, 0, 1, 1, 0, 1, 0, 0, 0, 0, 0, 1, 0, 0, 0, 0]\n",
      "--> Calculating Accuracy...\n",
      "Accuracy =  80.519 %\n",
      "The the count of true negatives is 43, false negatives is 8, true positives is 19, and false positives is 7\n",
      "*******************************************\n",
      "************    K =  4   *************\n",
      "******   Distance =  Eulidian Distance *******\n",
      "--> Calculating KNN...\n",
      "[0, 1, 1, 1, 0, 1, 1, 1, 0, 0, 0, 0, 0, 0, 0, 1, 0, 1, 0, 0, 0, 0, 0, 0, 0, 0, 0, 0, 0, 0, 1, 0, 0, 0, 1, 0, 1, 0, 0, 0, 0, 0, 1, 0, 0, 1, 0, 1, 0, 0, 0, 1, 1, 0, 0, 1, 1, 0, 1, 0, 0, 1, 1, 0, 1, 0, 1, 0, 0, 0, 0, 0, 1, 0, 0, 0, 0]\n",
      "--> Calculating Accuracy...\n",
      "Accuracy =  75.325 %\n",
      "The the count of true negatives is 42, false negatives is 11, true positives is 16, and false positives is 8\n",
      "*******************************************\n",
      "************    K =  5   *************\n",
      "******   Distance =  Eulidian Distance *******\n",
      "--> Calculating KNN...\n",
      "[0, 1, 0, 1, 0, 0, 0, 0, 0, 0, 0, 0, 0, 0, 0, 1, 0, 1, 0, 0, 0, 0, 0, 0, 0, 0, 0, 0, 0, 0, 1, 1, 0, 0, 1, 0, 1, 0, 0, 0, 0, 0, 1, 0, 0, 1, 0, 1, 1, 0, 0, 0, 0, 0, 1, 1, 1, 0, 1, 0, 0, 1, 0, 0, 1, 0, 1, 0, 0, 0, 0, 0, 1, 0, 0, 0, 0]\n",
      "--> Calculating Accuracy...\n",
      "Accuracy =  75.325 %\n",
      "The the count of true negatives is 44, false negatives is 13, true positives is 14, and false positives is 6\n",
      "*******************************************\n",
      "************    K =  6   *************\n",
      "******   Distance =  Eulidian Distance *******\n",
      "--> Calculating KNN...\n",
      "[0, 1, 1, 1, 0, 0, 0, 1, 0, 0, 0, 0, 1, 0, 0, 1, 0, 1, 0, 0, 0, 0, 0, 0, 0, 0, 0, 0, 0, 0, 1, 0, 0, 0, 1, 0, 1, 0, 0, 0, 0, 0, 1, 0, 0, 1, 0, 1, 0, 0, 0, 0, 0, 0, 1, 1, 1, 0, 1, 0, 0, 1, 1, 0, 1, 0, 1, 0, 0, 0, 0, 0, 1, 0, 0, 0, 0]\n",
      "--> Calculating Accuracy...\n",
      "Accuracy =  75.325 %\n",
      "The the count of true negatives is 43, false negatives is 12, true positives is 15, and false positives is 7\n",
      "*******************************************\n",
      "************    K =  7   *************\n",
      "******   Distance =  Eulidian Distance *******\n",
      "--> Calculating KNN...\n",
      "[0, 1, 0, 1, 0, 0, 0, 1, 0, 0, 0, 0, 1, 0, 0, 1, 0, 1, 0, 0, 0, 0, 0, 0, 0, 0, 0, 0, 0, 0, 1, 1, 0, 0, 1, 0, 0, 0, 0, 0, 0, 0, 1, 0, 0, 1, 0, 1, 1, 0, 0, 0, 0, 0, 1, 1, 1, 0, 1, 0, 0, 1, 0, 0, 1, 0, 1, 0, 0, 0, 0, 0, 1, 0, 0, 0, 0]\n",
      "--> Calculating Accuracy...\n",
      "Accuracy =  79.221 %\n",
      "The the count of true negatives is 45, false negatives is 11, true positives is 16, and false positives is 5\n",
      "*******************************************\n",
      "************    K =  8   *************\n",
      "******   Distance =  Eulidian Distance *******\n",
      "--> Calculating KNN...\n",
      "[0, 1, 1, 1, 0, 0, 1, 1, 0, 0, 0, 0, 1, 0, 0, 1, 0, 1, 0, 0, 0, 0, 0, 0, 0, 0, 0, 0, 0, 0, 1, 0, 0, 0, 1, 0, 0, 0, 0, 0, 0, 0, 1, 0, 0, 1, 0, 1, 1, 0, 0, 0, 0, 0, 0, 1, 1, 0, 1, 0, 0, 1, 0, 0, 1, 0, 0, 0, 0, 0, 0, 0, 1, 0, 0, 0, 0]\n",
      "--> Calculating Accuracy...\n",
      "Accuracy =  77.922 %\n",
      "The the count of true negatives is 45, false negatives is 12, true positives is 15, and false positives is 5\n",
      "*******************************************\n",
      "************    K =  9   *************\n",
      "******   Distance =  Eulidian Distance *******\n",
      "--> Calculating KNN...\n",
      "[0, 1, 1, 1, 0, 0, 0, 1, 0, 0, 0, 0, 0, 0, 0, 1, 0, 1, 0, 0, 0, 0, 0, 0, 0, 0, 0, 0, 0, 0, 1, 0, 0, 0, 1, 0, 0, 1, 0, 0, 0, 0, 1, 0, 0, 1, 0, 1, 1, 0, 0, 0, 0, 0, 0, 1, 1, 0, 1, 0, 0, 1, 0, 0, 0, 0, 1, 0, 0, 0, 0, 0, 1, 0, 0, 0, 0]\n",
      "--> Calculating Accuracy...\n",
      "Accuracy =  79.221 %\n",
      "The the count of true negatives is 46, false negatives is 12, true positives is 15, and false positives is 4\n",
      "*******************************************\n",
      "************    K =  10   *************\n",
      "******   Distance =  Eulidian Distance *******\n",
      "--> Calculating KNN...\n",
      "[0, 1, 1, 1, 0, 0, 0, 1, 0, 0, 0, 0, 0, 0, 0, 1, 0, 1, 0, 0, 0, 0, 0, 0, 0, 0, 0, 0, 0, 0, 1, 0, 0, 0, 1, 0, 1, 1, 0, 0, 0, 0, 1, 0, 0, 1, 0, 1, 1, 0, 0, 0, 0, 0, 0, 1, 1, 0, 1, 0, 0, 1, 1, 0, 0, 0, 1, 0, 0, 0, 0, 0, 1, 0, 0, 0, 0]\n",
      "--> Calculating Accuracy...\n",
      "Accuracy =  76.623 %\n",
      "The the count of true negatives is 44, false negatives is 12, true positives is 15, and false positives is 6\n",
      "*******************************************\n",
      "************    K =  11   *************\n",
      "******   Distance =  Eulidian Distance *******\n",
      "--> Calculating KNN...\n",
      "[0, 1, 1, 1, 0, 0, 0, 1, 0, 0, 0, 0, 0, 0, 0, 1, 0, 1, 0, 0, 0, 0, 0, 0, 0, 0, 0, 0, 0, 0, 1, 0, 0, 0, 1, 0, 1, 1, 0, 0, 0, 0, 1, 0, 0, 1, 0, 1, 1, 0, 0, 0, 0, 0, 0, 1, 1, 0, 1, 0, 0, 1, 1, 0, 0, 0, 1, 0, 0, 0, 0, 0, 1, 0, 0, 0, 0]\n",
      "--> Calculating Accuracy...\n",
      "Accuracy =  76.623 %\n",
      "The the count of true negatives is 44, false negatives is 12, true positives is 15, and false positives is 6\n",
      "*******************************************\n",
      "************    K =  12   *************\n",
      "******   Distance =  Eulidian Distance *******\n",
      "--> Calculating KNN...\n",
      "[0, 1, 1, 1, 0, 0, 1, 1, 0, 0, 0, 0, 0, 0, 0, 1, 0, 1, 0, 0, 0, 0, 0, 0, 0, 0, 0, 0, 0, 0, 1, 0, 0, 0, 1, 0, 1, 1, 0, 0, 0, 0, 1, 0, 0, 1, 0, 1, 0, 0, 0, 0, 0, 0, 0, 1, 1, 0, 1, 0, 0, 1, 1, 0, 0, 0, 1, 0, 0, 0, 0, 0, 1, 0, 0, 0, 0]\n",
      "--> Calculating Accuracy...\n",
      "Accuracy =  76.623 %\n",
      "The the count of true negatives is 44, false negatives is 12, true positives is 15, and false positives is 6\n",
      "*******************************************\n",
      "************    K =  13   *************\n",
      "******   Distance =  Eulidian Distance *******\n",
      "--> Calculating KNN...\n",
      "[0, 1, 1, 0, 0, 0, 0, 1, 0, 0, 0, 0, 0, 0, 0, 1, 0, 1, 0, 0, 0, 0, 0, 0, 0, 0, 0, 0, 0, 0, 1, 0, 0, 0, 1, 0, 1, 1, 0, 0, 0, 0, 1, 0, 0, 1, 0, 1, 1, 0, 0, 0, 0, 0, 1, 1, 1, 0, 1, 0, 0, 1, 0, 0, 0, 0, 1, 0, 0, 0, 0, 0, 1, 0, 0, 0, 0]\n",
      "--> Calculating Accuracy...\n",
      "Accuracy =  77.922 %\n",
      "The the count of true negatives is 45, false negatives is 12, true positives is 15, and false positives is 5\n",
      "*******************************************\n",
      "************    K =  14   *************\n",
      "******   Distance =  Eulidian Distance *******\n",
      "--> Calculating KNN...\n",
      "[0, 1, 1, 1, 0, 0, 1, 1, 0, 0, 0, 0, 0, 0, 0, 1, 0, 1, 0, 0, 0, 0, 0, 0, 0, 0, 0, 0, 0, 0, 1, 0, 0, 0, 1, 0, 1, 1, 0, 0, 0, 0, 1, 0, 0, 1, 0, 1, 0, 0, 0, 0, 0, 0, 0, 1, 1, 0, 1, 0, 0, 1, 0, 0, 0, 0, 1, 0, 0, 0, 0, 0, 1, 0, 0, 0, 0]\n",
      "--> Calculating Accuracy...\n",
      "Accuracy =  77.922 %\n",
      "The the count of true negatives is 45, false negatives is 12, true positives is 15, and false positives is 5\n",
      "*******************************************\n",
      "************    K =  15   *************\n",
      "******   Distance =  Eulidian Distance *******\n",
      "--> Calculating KNN...\n",
      "[0, 1, 1, 1, 0, 0, 1, 1, 0, 1, 0, 0, 0, 0, 0, 1, 0, 1, 0, 0, 0, 0, 0, 0, 0, 0, 0, 0, 0, 0, 1, 0, 0, 0, 1, 0, 1, 1, 0, 0, 0, 0, 1, 0, 0, 1, 0, 1, 1, 0, 0, 0, 0, 0, 1, 1, 1, 0, 1, 0, 0, 1, 0, 0, 0, 0, 1, 0, 0, 0, 0, 0, 1, 0, 0, 0, 0]\n",
      "--> Calculating Accuracy...\n",
      "Accuracy =  79.221 %\n",
      "The the count of true negatives is 44, false negatives is 10, true positives is 17, and false positives is 6\n",
      "*******************************************\n",
      "************    K =  16   *************\n",
      "******   Distance =  Eulidian Distance *******\n",
      "--> Calculating KNN...\n"
     ]
    },
    {
     "name": "stdout",
     "output_type": "stream",
     "text": [
      "[0, 1, 1, 1, 0, 0, 1, 1, 0, 0, 0, 0, 0, 0, 0, 1, 0, 1, 0, 0, 0, 0, 0, 0, 0, 0, 0, 0, 0, 0, 1, 0, 0, 0, 1, 0, 1, 1, 0, 0, 0, 0, 1, 0, 0, 1, 0, 1, 1, 0, 0, 1, 1, 0, 0, 1, 1, 0, 1, 0, 0, 1, 0, 0, 1, 0, 1, 0, 0, 0, 0, 0, 1, 0, 0, 0, 0]\n",
      "--> Calculating Accuracy...\n",
      "Accuracy =  80.519 %\n",
      "The the count of true negatives is 44, false negatives is 9, true positives is 18, and false positives is 6\n",
      "*******************************************\n",
      "************    K =  17   *************\n",
      "******   Distance =  Eulidian Distance *******\n",
      "--> Calculating KNN...\n",
      "[0, 1, 1, 1, 0, 0, 0, 1, 0, 1, 0, 0, 0, 0, 0, 1, 0, 1, 0, 0, 0, 0, 0, 0, 0, 0, 0, 0, 0, 0, 1, 1, 1, 0, 0, 0, 1, 1, 0, 0, 0, 0, 1, 0, 0, 1, 0, 1, 1, 0, 0, 0, 1, 0, 0, 1, 1, 0, 1, 0, 0, 1, 0, 0, 0, 0, 1, 0, 0, 0, 0, 0, 1, 0, 0, 0, 0]\n",
      "--> Calculating Accuracy...\n",
      "Accuracy =  76.623 %\n",
      "The the count of true negatives is 43, false negatives is 11, true positives is 16, and false positives is 7\n",
      "*******************************************\n",
      "************    K =  18   *************\n",
      "******   Distance =  Eulidian Distance *******\n",
      "--> Calculating KNN...\n",
      "[0, 1, 1, 1, 0, 0, 1, 1, 0, 1, 0, 0, 0, 0, 0, 1, 0, 1, 0, 0, 0, 0, 0, 0, 0, 0, 0, 0, 0, 0, 1, 1, 0, 0, 1, 0, 1, 1, 0, 0, 0, 0, 1, 0, 0, 1, 0, 1, 1, 0, 0, 0, 1, 0, 0, 1, 1, 0, 1, 0, 0, 1, 0, 0, 1, 0, 1, 0, 0, 0, 0, 0, 1, 0, 0, 0, 0]\n",
      "--> Calculating Accuracy...\n",
      "Accuracy =  79.221 %\n",
      "The the count of true negatives is 43, false negatives is 9, true positives is 18, and false positives is 7\n",
      "*******************************************\n",
      "************    K =  19   *************\n",
      "******   Distance =  Eulidian Distance *******\n",
      "--> Calculating KNN...\n",
      "[0, 1, 0, 1, 0, 0, 0, 1, 0, 1, 0, 0, 0, 0, 0, 1, 0, 1, 0, 0, 0, 0, 0, 0, 0, 0, 0, 0, 0, 0, 1, 1, 0, 0, 1, 0, 1, 1, 0, 0, 0, 0, 1, 0, 0, 1, 0, 1, 1, 0, 0, 0, 1, 0, 0, 1, 1, 0, 1, 0, 0, 1, 0, 0, 1, 0, 1, 0, 0, 0, 0, 0, 1, 0, 0, 0, 0]\n",
      "--> Calculating Accuracy...\n",
      "Accuracy =  76.623 %\n",
      "The the count of true negatives is 43, false negatives is 11, true positives is 16, and false positives is 7\n",
      "*******************************************\n",
      "************    K =  20   *************\n",
      "******   Distance =  Eulidian Distance *******\n",
      "--> Calculating KNN...\n",
      "[0, 1, 0, 1, 0, 0, 0, 1, 0, 0, 0, 0, 0, 0, 0, 1, 0, 1, 0, 0, 0, 0, 0, 0, 0, 0, 0, 0, 0, 0, 1, 1, 0, 0, 1, 0, 1, 1, 0, 0, 0, 0, 1, 0, 0, 1, 0, 1, 1, 0, 0, 1, 1, 0, 0, 1, 1, 0, 1, 0, 0, 1, 0, 0, 1, 0, 1, 0, 0, 0, 0, 0, 1, 0, 0, 0, 0]\n",
      "--> Calculating Accuracy...\n",
      "Accuracy =  79.221 %\n",
      "The the count of true negatives is 44, false negatives is 10, true positives is 17, and false positives is 6\n",
      "*******************************************\n",
      "************    K =  1   *************\n",
      "******   Distance =  Manhatten Distance *******\n",
      "--> Calculating KNN...\n",
      "[0, 1, 1, 1, 0, 1, 1, 1, 0, 0, 0, 0, 0, 0, 0, 1, 0, 1, 0, 0, 0, 0, 0, 0, 0, 0, 0, 0, 0, 1, 1, 0, 0, 0, 1, 1, 1, 1, 0, 0, 0, 0, 1, 0, 0, 0, 1, 1, 0, 0, 1, 1, 1, 0, 0, 1, 1, 0, 1, 0, 0, 1, 1, 0, 1, 0, 0, 0, 0, 0, 0, 1, 1, 0, 0, 0, 0]\n",
      "--> Calculating Accuracy...\n",
      "Accuracy =  75.325 %\n",
      "The the count of true negatives is 40, false negatives is 9, true positives is 18, and false positives is 10\n",
      "*******************************************\n",
      "************    K =  2   *************\n",
      "******   Distance =  Manhatten Distance *******\n",
      "--> Calculating KNN...\n",
      "[0, 1, 1, 1, 0, 1, 1, 1, 0, 0, 0, 0, 0, 0, 0, 1, 0, 1, 0, 0, 0, 0, 0, 0, 0, 0, 0, 0, 0, 1, 1, 0, 0, 0, 1, 1, 1, 1, 0, 0, 0, 0, 1, 0, 0, 0, 1, 1, 0, 0, 1, 1, 1, 0, 0, 1, 1, 0, 1, 0, 0, 1, 1, 0, 1, 0, 0, 0, 0, 0, 0, 1, 1, 0, 0, 0, 0]\n",
      "--> Calculating Accuracy...\n",
      "Accuracy =  75.325 %\n",
      "The the count of true negatives is 40, false negatives is 9, true positives is 18, and false positives is 10\n",
      "*******************************************\n",
      "************    K =  3   *************\n",
      "******   Distance =  Manhatten Distance *******\n",
      "--> Calculating KNN...\n",
      "[0, 1, 1, 1, 0, 0, 1, 1, 0, 0, 0, 0, 0, 0, 0, 1, 0, 1, 0, 0, 0, 0, 0, 0, 0, 0, 0, 0, 0, 0, 1, 1, 0, 0, 1, 0, 1, 1, 0, 0, 0, 0, 1, 0, 0, 1, 0, 1, 0, 0, 1, 1, 1, 0, 0, 1, 1, 0, 1, 0, 0, 1, 0, 0, 1, 0, 1, 0, 0, 0, 0, 0, 1, 0, 0, 0, 0]\n",
      "--> Calculating Accuracy...\n",
      "Accuracy =  79.221 %\n",
      "The the count of true negatives is 43, false negatives is 9, true positives is 18, and false positives is 7\n",
      "*******************************************\n",
      "************    K =  4   *************\n",
      "******   Distance =  Manhatten Distance *******\n",
      "--> Calculating KNN...\n",
      "[0, 1, 1, 1, 0, 0, 1, 1, 0, 0, 0, 0, 0, 0, 0, 1, 0, 1, 0, 0, 0, 0, 0, 0, 0, 0, 0, 0, 0, 0, 1, 1, 0, 0, 1, 0, 1, 1, 0, 0, 0, 0, 1, 0, 0, 0, 0, 1, 0, 0, 1, 1, 1, 0, 0, 1, 1, 0, 1, 0, 0, 1, 0, 0, 1, 0, 1, 0, 0, 0, 0, 0, 1, 0, 0, 0, 0]\n",
      "--> Calculating Accuracy...\n",
      "Accuracy =  80.519 %\n",
      "The the count of true negatives is 44, false negatives is 9, true positives is 18, and false positives is 6\n",
      "*******************************************\n",
      "************    K =  5   *************\n",
      "******   Distance =  Manhatten Distance *******\n",
      "--> Calculating KNN...\n",
      "[0, 1, 0, 1, 0, 0, 1, 1, 0, 0, 0, 0, 0, 0, 0, 1, 0, 1, 0, 0, 0, 0, 0, 0, 0, 0, 0, 0, 0, 0, 1, 1, 0, 0, 1, 0, 1, 0, 0, 0, 0, 0, 1, 0, 0, 0, 0, 1, 1, 0, 1, 1, 1, 0, 0, 1, 1, 0, 1, 0, 0, 1, 0, 0, 1, 0, 1, 0, 0, 0, 0, 0, 1, 0, 0, 0, 0]\n",
      "--> Calculating Accuracy...\n",
      "Accuracy =  79.221 %\n",
      "The the count of true negatives is 44, false negatives is 10, true positives is 17, and false positives is 6\n",
      "*******************************************\n",
      "************    K =  6   *************\n",
      "******   Distance =  Manhatten Distance *******\n",
      "--> Calculating KNN...\n",
      "[0, 1, 1, 1, 0, 0, 1, 1, 0, 0, 0, 0, 0, 0, 0, 1, 0, 1, 0, 0, 0, 0, 0, 0, 0, 0, 0, 0, 0, 0, 1, 1, 0, 0, 1, 0, 1, 1, 0, 0, 0, 0, 1, 0, 0, 0, 0, 1, 0, 0, 1, 1, 1, 0, 0, 1, 1, 0, 1, 0, 0, 1, 0, 0, 1, 0, 0, 0, 0, 0, 0, 1, 1, 0, 0, 0, 0]\n",
      "--> Calculating Accuracy...\n",
      "Accuracy =  80.519 %\n",
      "The the count of true negatives is 44, false negatives is 9, true positives is 18, and false positives is 6\n",
      "*******************************************\n",
      "************    K =  7   *************\n",
      "******   Distance =  Manhatten Distance *******\n",
      "--> Calculating KNN...\n",
      "[0, 1, 0, 1, 0, 0, 0, 1, 0, 0, 0, 0, 0, 0, 0, 1, 0, 1, 0, 0, 0, 0, 0, 0, 0, 0, 0, 0, 0, 0, 1, 1, 0, 0, 1, 0, 1, 0, 0, 0, 0, 0, 1, 0, 0, 1, 0, 1, 1, 0, 0, 0, 1, 0, 0, 1, 1, 0, 1, 0, 0, 1, 0, 0, 0, 0, 1, 0, 0, 0, 0, 0, 1, 0, 0, 0, 0]\n",
      "--> Calculating Accuracy...\n",
      "Accuracy =  77.922 %\n",
      "The the count of true negatives is 45, false negatives is 12, true positives is 15, and false positives is 5\n",
      "*******************************************\n",
      "************    K =  8   *************\n",
      "******   Distance =  Manhatten Distance *******\n",
      "--> Calculating KNN...\n",
      "[0, 1, 1, 1, 0, 0, 1, 1, 0, 0, 0, 0, 0, 0, 0, 1, 0, 1, 0, 0, 0, 0, 0, 0, 0, 0, 0, 0, 0, 0, 1, 0, 0, 0, 1, 0, 1, 1, 0, 0, 0, 0, 1, 0, 0, 1, 0, 1, 0, 0, 1, 1, 1, 0, 0, 1, 1, 0, 1, 0, 0, 1, 1, 0, 0, 0, 1, 0, 0, 0, 0, 0, 1, 0, 0, 0, 0]\n",
      "--> Calculating Accuracy...\n",
      "Accuracy =  77.922 %\n",
      "The the count of true negatives is 43, false negatives is 10, true positives is 17, and false positives is 7\n",
      "*******************************************\n",
      "************    K =  9   *************\n",
      "******   Distance =  Manhatten Distance *******\n",
      "--> Calculating KNN...\n",
      "[0, 1, 0, 1, 0, 0, 0, 1, 0, 0, 0, 0, 0, 0, 0, 1, 0, 1, 0, 0, 0, 0, 0, 0, 0, 0, 0, 0, 0, 0, 1, 1, 0, 0, 1, 0, 1, 1, 0, 0, 0, 0, 1, 0, 0, 1, 0, 1, 0, 0, 0, 1, 1, 0, 0, 1, 1, 0, 1, 0, 0, 1, 1, 0, 0, 0, 1, 0, 0, 0, 0, 0, 1, 0, 0, 0, 0]\n",
      "--> Calculating Accuracy...\n",
      "Accuracy =  77.922 %\n",
      "The the count of true negatives is 44, false negatives is 11, true positives is 16, and false positives is 6\n",
      "*******************************************\n",
      "************    K =  10   *************\n",
      "******   Distance =  Manhatten Distance *******\n",
      "--> Calculating KNN...\n",
      "[0, 1, 1, 1, 0, 0, 0, 1, 0, 0, 0, 0, 0, 0, 0, 1, 0, 1, 0, 0, 0, 0, 0, 0, 0, 0, 0, 0, 0, 0, 1, 0, 0, 0, 1, 0, 1, 1, 0, 0, 0, 0, 1, 0, 0, 1, 0, 1, 0, 0, 0, 1, 1, 0, 0, 1, 1, 0, 1, 0, 0, 1, 1, 0, 0, 0, 0, 0, 0, 0, 0, 0, 1, 0, 0, 0, 0]\n",
      "--> Calculating Accuracy...\n",
      "Accuracy =  76.623 %\n",
      "The the count of true negatives is 44, false negatives is 12, true positives is 15, and false positives is 6\n",
      "*******************************************\n",
      "************    K =  11   *************\n",
      "******   Distance =  Manhatten Distance *******\n",
      "--> Calculating KNN...\n",
      "[0, 1, 0, 1, 0, 0, 0, 1, 0, 0, 0, 0, 0, 0, 0, 1, 0, 1, 0, 0, 0, 0, 0, 0, 0, 0, 0, 0, 0, 0, 1, 0, 0, 0, 1, 0, 1, 1, 0, 0, 0, 0, 1, 0, 0, 1, 0, 1, 0, 0, 0, 1, 1, 0, 0, 1, 1, 0, 1, 0, 0, 1, 1, 0, 0, 0, 1, 0, 0, 0, 0, 0, 1, 0, 0, 0, 0]\n",
      "--> Calculating Accuracy...\n",
      "Accuracy =  76.623 %\n",
      "The the count of true negatives is 44, false negatives is 12, true positives is 15, and false positives is 6\n",
      "*******************************************\n",
      "************    K =  12   *************\n",
      "******   Distance =  Manhatten Distance *******\n",
      "--> Calculating KNN...\n"
     ]
    },
    {
     "name": "stdout",
     "output_type": "stream",
     "text": [
      "[0, 1, 0, 1, 0, 0, 1, 1, 0, 0, 0, 0, 0, 0, 0, 1, 0, 1, 0, 0, 0, 0, 0, 0, 0, 0, 0, 0, 0, 0, 1, 0, 0, 0, 1, 0, 1, 1, 0, 0, 0, 0, 1, 0, 0, 1, 0, 1, 0, 0, 0, 1, 1, 0, 0, 1, 1, 0, 1, 0, 0, 1, 1, 0, 1, 0, 0, 0, 0, 0, 0, 0, 1, 0, 0, 0, 0]\n",
      "--> Calculating Accuracy...\n",
      "Accuracy =  75.325 %\n",
      "The the count of true negatives is 43, false negatives is 12, true positives is 15, and false positives is 7\n",
      "*******************************************\n",
      "************    K =  13   *************\n",
      "******   Distance =  Manhatten Distance *******\n",
      "--> Calculating KNN...\n",
      "[0, 1, 0, 1, 0, 0, 0, 1, 0, 0, 0, 0, 0, 0, 0, 1, 0, 1, 0, 0, 0, 0, 0, 0, 0, 0, 0, 0, 0, 0, 1, 0, 0, 0, 1, 0, 0, 1, 0, 0, 0, 0, 1, 0, 0, 1, 0, 1, 1, 0, 0, 0, 1, 0, 0, 1, 1, 0, 1, 0, 0, 1, 0, 0, 1, 0, 1, 0, 0, 0, 0, 0, 1, 0, 0, 0, 0]\n",
      "--> Calculating Accuracy...\n",
      "Accuracy =  77.922 %\n",
      "The the count of true negatives is 45, false negatives is 12, true positives is 15, and false positives is 5\n",
      "*******************************************\n",
      "************    K =  14   *************\n",
      "******   Distance =  Manhatten Distance *******\n",
      "--> Calculating KNN...\n",
      "[0, 1, 0, 1, 0, 0, 1, 1, 0, 0, 0, 0, 0, 0, 0, 1, 0, 1, 0, 0, 0, 0, 0, 0, 0, 0, 0, 0, 0, 0, 1, 0, 0, 0, 1, 0, 1, 1, 0, 0, 0, 0, 1, 0, 0, 1, 0, 1, 1, 0, 0, 1, 1, 0, 0, 1, 1, 0, 1, 0, 0, 1, 0, 0, 1, 0, 1, 0, 0, 0, 0, 0, 1, 0, 0, 0, 0]\n",
      "--> Calculating Accuracy...\n",
      "Accuracy =  79.221 %\n",
      "The the count of true negatives is 44, false negatives is 10, true positives is 17, and false positives is 6\n",
      "*******************************************\n",
      "************    K =  15   *************\n",
      "******   Distance =  Manhatten Distance *******\n",
      "--> Calculating KNN...\n",
      "[0, 1, 0, 1, 0, 0, 0, 1, 0, 1, 0, 0, 0, 0, 0, 1, 0, 1, 0, 0, 0, 0, 0, 0, 0, 0, 0, 0, 0, 0, 1, 0, 0, 0, 1, 0, 0, 1, 0, 0, 0, 0, 1, 0, 0, 1, 0, 1, 1, 0, 0, 0, 1, 0, 0, 1, 1, 0, 1, 0, 0, 1, 0, 0, 1, 0, 1, 0, 0, 0, 0, 0, 1, 0, 0, 0, 0]\n",
      "--> Calculating Accuracy...\n",
      "Accuracy =  76.623 %\n",
      "The the count of true negatives is 44, false negatives is 12, true positives is 15, and false positives is 6\n",
      "*******************************************\n",
      "************    K =  16   *************\n",
      "******   Distance =  Manhatten Distance *******\n",
      "--> Calculating KNN...\n",
      "[0, 1, 1, 1, 0, 0, 0, 1, 0, 1, 0, 0, 0, 0, 0, 1, 0, 1, 0, 0, 0, 0, 0, 0, 0, 0, 0, 0, 0, 0, 1, 0, 0, 0, 1, 0, 1, 1, 0, 0, 0, 0, 1, 0, 0, 0, 0, 1, 1, 0, 0, 0, 1, 0, 0, 1, 1, 0, 1, 0, 0, 1, 0, 0, 1, 0, 1, 0, 0, 0, 0, 0, 1, 0, 0, 0, 0]\n",
      "--> Calculating Accuracy...\n",
      "Accuracy =  77.922 %\n",
      "The the count of true negatives is 44, false negatives is 11, true positives is 16, and false positives is 6\n",
      "*******************************************\n",
      "************    K =  17   *************\n",
      "******   Distance =  Manhatten Distance *******\n",
      "--> Calculating KNN...\n",
      "[0, 1, 1, 0, 0, 0, 0, 1, 0, 1, 0, 0, 0, 0, 0, 1, 0, 1, 0, 0, 0, 0, 0, 0, 0, 0, 0, 0, 0, 0, 1, 0, 0, 0, 1, 0, 1, 1, 0, 0, 0, 0, 1, 0, 0, 0, 0, 1, 1, 0, 0, 0, 1, 0, 0, 1, 0, 0, 1, 0, 0, 1, 0, 0, 1, 0, 1, 0, 0, 0, 0, 0, 1, 0, 0, 0, 0]\n",
      "--> Calculating Accuracy...\n",
      "Accuracy =  77.922 %\n",
      "The the count of true negatives is 45, false negatives is 12, true positives is 15, and false positives is 5\n",
      "*******************************************\n",
      "************    K =  18   *************\n",
      "******   Distance =  Manhatten Distance *******\n",
      "--> Calculating KNN...\n",
      "[0, 1, 1, 1, 0, 0, 0, 1, 0, 1, 0, 0, 0, 0, 0, 1, 0, 1, 0, 0, 0, 0, 0, 0, 0, 0, 0, 0, 0, 0, 1, 0, 0, 0, 1, 0, 1, 1, 0, 0, 0, 0, 1, 0, 0, 0, 0, 1, 1, 0, 0, 1, 1, 0, 0, 1, 1, 0, 1, 0, 0, 1, 0, 0, 1, 0, 1, 0, 0, 0, 0, 0, 1, 0, 0, 0, 0]\n",
      "--> Calculating Accuracy...\n",
      "Accuracy =  79.221 %\n",
      "The the count of true negatives is 44, false negatives is 10, true positives is 17, and false positives is 6\n",
      "*******************************************\n",
      "************    K =  19   *************\n",
      "******   Distance =  Manhatten Distance *******\n",
      "--> Calculating KNN...\n",
      "[0, 1, 1, 1, 0, 0, 0, 1, 0, 1, 0, 0, 0, 0, 0, 1, 0, 1, 0, 0, 0, 0, 0, 0, 0, 0, 0, 0, 0, 0, 1, 1, 0, 0, 1, 0, 1, 1, 0, 0, 0, 0, 1, 0, 0, 0, 0, 1, 1, 0, 0, 1, 1, 0, 0, 1, 0, 0, 1, 0, 0, 1, 0, 0, 1, 0, 1, 0, 0, 0, 0, 0, 1, 0, 0, 0, 0]\n",
      "--> Calculating Accuracy...\n",
      "Accuracy =  81.818 %\n",
      "The the count of true negatives is 45, false negatives is 9, true positives is 18, and false positives is 5\n",
      "*******************************************\n",
      "************    K =  20   *************\n",
      "******   Distance =  Manhatten Distance *******\n",
      "--> Calculating KNN...\n",
      "[0, 1, 1, 1, 0, 0, 0, 1, 0, 0, 0, 0, 0, 0, 0, 1, 0, 1, 0, 0, 0, 0, 0, 0, 0, 0, 0, 0, 0, 0, 1, 0, 0, 0, 1, 0, 1, 1, 0, 0, 0, 0, 1, 0, 0, 0, 0, 1, 1, 0, 0, 1, 1, 0, 0, 1, 0, 0, 1, 0, 0, 1, 0, 0, 1, 0, 1, 0, 0, 0, 0, 0, 1, 0, 0, 0, 0]\n",
      "--> Calculating Accuracy...\n",
      "Accuracy =  81.818 %\n",
      "The the count of true negatives is 46, false negatives is 10, true positives is 17, and false positives is 4\n",
      "*******************************************\n",
      "************    K =  1   *************\n",
      "******   Distance =  Chebyshev Distance *******\n",
      "--> Calculating KNN...\n",
      "[0, 0, 1, 1, 0, 1, 0, 1, 0, 1, 0, 0, 1, 0, 0, 1, 0, 1, 0, 0, 0, 0, 1, 0, 0, 0, 0, 0, 0, 0, 1, 0, 0, 0, 1, 1, 1, 0, 0, 0, 0, 0, 1, 1, 0, 0, 0, 1, 0, 0, 0, 1, 0, 0, 1, 1, 1, 0, 0, 0, 0, 1, 1, 1, 1, 0, 0, 0, 1, 1, 0, 0, 1, 0, 0, 0, 0]\n",
      "--> Calculating Accuracy...\n",
      "Accuracy =  66.234 %\n",
      "The the count of true negatives is 37, false negatives is 13, true positives is 14, and false positives is 13\n",
      "*******************************************\n",
      "************    K =  2   *************\n",
      "******   Distance =  Chebyshev Distance *******\n",
      "--> Calculating KNN...\n",
      "[0, 0, 1, 1, 0, 1, 0, 1, 0, 1, 0, 0, 1, 0, 0, 1, 0, 1, 0, 0, 0, 0, 1, 0, 0, 0, 0, 0, 0, 0, 1, 0, 0, 0, 1, 1, 1, 0, 0, 0, 0, 0, 1, 1, 0, 0, 0, 1, 0, 0, 0, 1, 0, 0, 1, 1, 1, 0, 0, 0, 0, 1, 1, 1, 1, 0, 0, 0, 1, 1, 0, 0, 1, 0, 0, 0, 0]\n",
      "--> Calculating Accuracy...\n",
      "Accuracy =  66.234 %\n",
      "The the count of true negatives is 37, false negatives is 13, true positives is 14, and false positives is 13\n",
      "*******************************************\n",
      "************    K =  3   *************\n",
      "******   Distance =  Chebyshev Distance *******\n",
      "--> Calculating KNN...\n",
      "[0, 1, 0, 1, 0, 0, 1, 0, 0, 1, 0, 0, 0, 0, 0, 1, 0, 1, 0, 0, 0, 0, 0, 0, 0, 0, 0, 0, 0, 0, 1, 1, 0, 0, 1, 1, 1, 0, 0, 0, 0, 0, 1, 0, 0, 1, 0, 0, 1, 0, 0, 1, 0, 0, 1, 1, 1, 0, 1, 0, 0, 1, 0, 0, 1, 0, 1, 0, 1, 1, 0, 0, 1, 0, 0, 0, 0]\n",
      "--> Calculating Accuracy...\n",
      "Accuracy =  74.026 %\n",
      "The the count of true negatives is 41, false negatives is 11, true positives is 16, and false positives is 9\n",
      "*******************************************\n",
      "************    K =  4   *************\n",
      "******   Distance =  Chebyshev Distance *******\n",
      "--> Calculating KNN...\n",
      "[0, 1, 1, 1, 0, 1, 0, 0, 0, 1, 0, 0, 0, 0, 0, 1, 0, 1, 0, 0, 0, 0, 0, 0, 0, 0, 0, 0, 0, 0, 1, 0, 0, 0, 1, 1, 1, 0, 0, 0, 0, 0, 1, 0, 0, 0, 0, 1, 1, 0, 0, 1, 0, 0, 1, 1, 1, 0, 1, 0, 0, 1, 1, 1, 1, 0, 0, 0, 1, 1, 0, 0, 1, 0, 0, 0, 0]\n",
      "--> Calculating Accuracy...\n",
      "Accuracy =  70.13 %\n",
      "The the count of true negatives is 39, false negatives is 12, true positives is 15, and false positives is 11\n",
      "*******************************************\n",
      "************    K =  5   *************\n",
      "******   Distance =  Chebyshev Distance *******\n",
      "--> Calculating KNN...\n",
      "[0, 1, 0, 1, 0, 1, 1, 0, 0, 1, 0, 0, 0, 0, 0, 1, 0, 1, 0, 0, 0, 0, 0, 0, 0, 0, 0, 0, 0, 0, 1, 0, 0, 0, 1, 1, 1, 0, 0, 0, 0, 0, 1, 0, 0, 1, 0, 0, 1, 0, 0, 0, 0, 0, 1, 1, 1, 0, 1, 0, 0, 1, 1, 0, 1, 0, 0, 0, 1, 0, 0, 0, 1, 0, 0, 0, 0]\n",
      "--> Calculating Accuracy...\n",
      "Accuracy =  68.831 %\n",
      "The the count of true negatives is 40, false negatives is 14, true positives is 13, and false positives is 10\n",
      "*******************************************\n",
      "************    K =  6   *************\n",
      "******   Distance =  Chebyshev Distance *******\n",
      "--> Calculating KNN...\n",
      "[0, 1, 1, 1, 0, 1, 0, 0, 0, 1, 0, 0, 0, 0, 0, 1, 0, 1, 0, 0, 0, 0, 0, 0, 0, 0, 0, 0, 0, 0, 1, 0, 0, 0, 1, 1, 1, 0, 0, 0, 0, 0, 1, 0, 0, 1, 0, 1, 1, 0, 0, 0, 0, 0, 1, 1, 1, 0, 0, 0, 0, 1, 1, 0, 1, 0, 0, 0, 1, 1, 0, 0, 1, 0, 0, 0, 0]\n",
      "--> Calculating Accuracy...\n",
      "Accuracy =  64.935 %\n",
      "The the count of true negatives is 38, false negatives is 15, true positives is 12, and false positives is 12\n",
      "*******************************************\n",
      "************    K =  7   *************\n",
      "******   Distance =  Chebyshev Distance *******\n",
      "--> Calculating KNN...\n",
      "[0, 1, 0, 1, 0, 0, 1, 0, 0, 0, 0, 0, 0, 0, 0, 1, 0, 1, 0, 0, 0, 0, 0, 0, 0, 0, 0, 0, 0, 0, 1, 0, 0, 0, 1, 0, 0, 1, 0, 0, 0, 0, 1, 0, 0, 1, 0, 1, 1, 0, 0, 0, 0, 0, 1, 1, 1, 0, 0, 0, 0, 1, 0, 0, 1, 0, 1, 0, 1, 1, 0, 0, 1, 0, 0, 0, 0]\n",
      "--> Calculating Accuracy...\n",
      "Accuracy =  74.026 %\n",
      "The the count of true negatives is 43, false negatives is 13, true positives is 14, and false positives is 7\n",
      "*******************************************\n",
      "************    K =  8   *************\n",
      "******   Distance =  Chebyshev Distance *******\n",
      "--> Calculating KNN...\n"
     ]
    },
    {
     "name": "stdout",
     "output_type": "stream",
     "text": [
      "[0, 1, 1, 1, 0, 0, 1, 0, 0, 0, 0, 0, 0, 0, 0, 1, 0, 1, 0, 0, 0, 0, 0, 0, 0, 0, 0, 0, 0, 0, 1, 0, 0, 0, 1, 0, 0, 1, 0, 0, 0, 0, 1, 0, 0, 1, 0, 1, 1, 0, 0, 0, 0, 0, 1, 1, 1, 0, 0, 0, 0, 1, 0, 0, 1, 0, 1, 0, 1, 1, 0, 0, 1, 0, 0, 0, 0]\n",
      "--> Calculating Accuracy...\n",
      "Accuracy =  75.325 %\n",
      "The the count of true negatives is 43, false negatives is 12, true positives is 15, and false positives is 7\n",
      "*******************************************\n",
      "************    K =  9   *************\n",
      "******   Distance =  Chebyshev Distance *******\n",
      "--> Calculating KNN...\n",
      "[0, 1, 1, 1, 0, 0, 1, 0, 0, 0, 0, 0, 0, 0, 0, 1, 0, 1, 0, 0, 0, 0, 0, 0, 0, 0, 0, 0, 0, 0, 1, 1, 0, 0, 1, 0, 0, 1, 0, 0, 0, 0, 1, 0, 0, 1, 0, 1, 1, 0, 0, 0, 0, 0, 1, 1, 1, 0, 1, 0, 0, 1, 0, 0, 1, 0, 1, 0, 1, 1, 0, 0, 1, 0, 0, 0, 0]\n",
      "--> Calculating Accuracy...\n",
      "Accuracy =  77.922 %\n",
      "The the count of true negatives is 43, false negatives is 10, true positives is 17, and false positives is 7\n",
      "*******************************************\n",
      "************    K =  10   *************\n",
      "******   Distance =  Chebyshev Distance *******\n",
      "--> Calculating KNN...\n",
      "[0, 1, 1, 1, 0, 0, 0, 1, 0, 0, 0, 0, 0, 0, 0, 1, 0, 1, 0, 0, 0, 0, 0, 0, 0, 0, 0, 0, 0, 0, 1, 0, 0, 0, 1, 0, 0, 0, 0, 0, 0, 0, 1, 0, 0, 1, 0, 1, 1, 0, 0, 0, 0, 0, 1, 1, 1, 0, 0, 0, 0, 1, 0, 0, 1, 0, 1, 0, 1, 1, 0, 0, 1, 0, 0, 0, 0]\n",
      "--> Calculating Accuracy...\n",
      "Accuracy =  74.026 %\n",
      "The the count of true negatives is 43, false negatives is 13, true positives is 14, and false positives is 7\n",
      "*******************************************\n",
      "************    K =  11   *************\n",
      "******   Distance =  Chebyshev Distance *******\n",
      "--> Calculating KNN...\n",
      "[0, 1, 1, 0, 0, 0, 0, 1, 0, 0, 0, 0, 0, 0, 0, 1, 0, 1, 0, 0, 0, 0, 0, 0, 0, 0, 0, 0, 0, 0, 1, 1, 0, 0, 1, 0, 0, 1, 0, 0, 0, 0, 1, 0, 0, 1, 0, 1, 1, 0, 0, 0, 0, 0, 1, 1, 1, 0, 0, 0, 0, 1, 0, 0, 1, 0, 1, 0, 1, 1, 0, 1, 1, 0, 0, 0, 0]\n",
      "--> Calculating Accuracy...\n",
      "Accuracy =  76.623 %\n",
      "The the count of true negatives is 43, false negatives is 11, true positives is 16, and false positives is 7\n",
      "*******************************************\n",
      "************    K =  12   *************\n",
      "******   Distance =  Chebyshev Distance *******\n",
      "--> Calculating KNN...\n",
      "[0, 1, 1, 1, 0, 0, 0, 1, 0, 0, 0, 0, 0, 0, 0, 1, 0, 1, 0, 0, 0, 0, 0, 0, 0, 0, 0, 0, 0, 0, 1, 1, 0, 0, 1, 0, 0, 1, 0, 0, 0, 0, 1, 0, 0, 1, 0, 1, 1, 0, 0, 0, 0, 0, 1, 1, 1, 0, 0, 0, 0, 1, 0, 0, 1, 0, 0, 0, 1, 1, 0, 0, 1, 0, 0, 0, 0]\n",
      "--> Calculating Accuracy...\n",
      "Accuracy =  75.325 %\n",
      "The the count of true negatives is 43, false negatives is 12, true positives is 15, and false positives is 7\n",
      "*******************************************\n",
      "************    K =  13   *************\n",
      "******   Distance =  Chebyshev Distance *******\n",
      "--> Calculating KNN...\n",
      "[0, 1, 1, 0, 0, 0, 0, 1, 0, 0, 0, 0, 0, 0, 0, 1, 0, 1, 0, 0, 0, 0, 0, 0, 0, 0, 0, 0, 0, 0, 1, 1, 0, 0, 1, 0, 0, 1, 0, 0, 0, 0, 1, 0, 0, 1, 0, 1, 1, 0, 0, 0, 0, 0, 1, 1, 1, 0, 0, 0, 0, 1, 0, 0, 1, 0, 0, 0, 1, 1, 0, 1, 1, 0, 0, 0, 0]\n",
      "--> Calculating Accuracy...\n",
      "Accuracy =  75.325 %\n",
      "The the count of true negatives is 43, false negatives is 12, true positives is 15, and false positives is 7\n",
      "*******************************************\n",
      "************    K =  14   *************\n",
      "******   Distance =  Chebyshev Distance *******\n",
      "--> Calculating KNN...\n",
      "[0, 1, 1, 0, 0, 0, 0, 1, 0, 0, 0, 0, 0, 0, 0, 1, 0, 1, 0, 0, 0, 0, 0, 0, 0, 0, 0, 0, 0, 0, 1, 1, 0, 0, 1, 0, 0, 1, 0, 0, 0, 0, 1, 0, 0, 1, 0, 1, 1, 0, 0, 0, 0, 0, 1, 1, 1, 0, 0, 0, 0, 1, 0, 0, 1, 0, 0, 0, 1, 1, 0, 0, 1, 0, 0, 0, 0]\n",
      "--> Calculating Accuracy...\n",
      "Accuracy =  74.026 %\n",
      "The the count of true negatives is 43, false negatives is 13, true positives is 14, and false positives is 7\n",
      "*******************************************\n",
      "************    K =  15   *************\n",
      "******   Distance =  Chebyshev Distance *******\n",
      "--> Calculating KNN...\n",
      "[0, 1, 1, 0, 0, 0, 0, 1, 0, 0, 0, 0, 0, 0, 0, 1, 0, 1, 0, 0, 0, 0, 0, 0, 0, 0, 0, 0, 0, 0, 1, 1, 0, 0, 1, 0, 0, 1, 0, 0, 0, 0, 1, 0, 0, 1, 0, 0, 1, 0, 0, 0, 0, 0, 0, 1, 1, 0, 0, 0, 0, 0, 0, 0, 1, 0, 0, 0, 0, 1, 0, 0, 1, 0, 0, 0, 0]\n",
      "--> Calculating Accuracy...\n",
      "Accuracy =  74.026 %\n",
      "The the count of true negatives is 45, false negatives is 15, true positives is 12, and false positives is 5\n",
      "*******************************************\n",
      "************    K =  16   *************\n",
      "******   Distance =  Chebyshev Distance *******\n",
      "--> Calculating KNN...\n",
      "[0, 1, 1, 1, 0, 0, 0, 1, 0, 1, 0, 0, 0, 0, 0, 1, 0, 1, 0, 0, 0, 0, 0, 0, 0, 0, 0, 0, 0, 0, 1, 1, 0, 0, 1, 0, 0, 1, 0, 0, 0, 0, 1, 0, 0, 1, 0, 0, 1, 0, 0, 0, 0, 0, 0, 1, 1, 0, 0, 0, 0, 1, 0, 0, 1, 0, 0, 0, 1, 1, 0, 0, 1, 0, 0, 0, 0]\n",
      "--> Calculating Accuracy...\n",
      "Accuracy =  74.026 %\n",
      "The the count of true negatives is 43, false negatives is 13, true positives is 14, and false positives is 7\n",
      "*******************************************\n",
      "************    K =  17   *************\n",
      "******   Distance =  Chebyshev Distance *******\n",
      "--> Calculating KNN...\n",
      "[0, 1, 0, 1, 0, 0, 0, 1, 0, 1, 0, 0, 0, 0, 0, 1, 0, 1, 0, 0, 0, 0, 0, 0, 0, 0, 0, 0, 0, 0, 1, 1, 0, 0, 1, 0, 0, 1, 0, 0, 0, 0, 1, 0, 0, 1, 0, 0, 1, 0, 0, 0, 0, 0, 0, 1, 1, 0, 0, 0, 0, 0, 0, 0, 1, 0, 0, 0, 1, 1, 0, 0, 1, 0, 0, 0, 0]\n",
      "--> Calculating Accuracy...\n",
      "Accuracy =  71.429 %\n",
      "The the count of true negatives is 43, false negatives is 15, true positives is 12, and false positives is 7\n",
      "*******************************************\n",
      "************    K =  18   *************\n",
      "******   Distance =  Chebyshev Distance *******\n",
      "--> Calculating KNN...\n",
      "[0, 1, 1, 1, 0, 0, 0, 1, 0, 1, 0, 0, 0, 0, 0, 1, 0, 1, 0, 0, 0, 0, 0, 0, 0, 0, 0, 0, 0, 0, 1, 1, 0, 0, 1, 0, 0, 1, 0, 0, 0, 0, 1, 0, 0, 1, 0, 0, 1, 0, 0, 0, 0, 0, 0, 1, 1, 0, 0, 0, 0, 1, 0, 0, 1, 0, 0, 0, 1, 1, 0, 0, 1, 0, 0, 0, 0]\n",
      "--> Calculating Accuracy...\n",
      "Accuracy =  74.026 %\n",
      "The the count of true negatives is 43, false negatives is 13, true positives is 14, and false positives is 7\n",
      "*******************************************\n",
      "************    K =  19   *************\n",
      "******   Distance =  Chebyshev Distance *******\n",
      "--> Calculating KNN...\n",
      "[0, 1, 1, 0, 0, 0, 0, 1, 0, 1, 0, 0, 0, 0, 0, 1, 0, 0, 0, 0, 0, 0, 0, 0, 0, 0, 0, 0, 0, 0, 1, 1, 0, 0, 1, 0, 0, 1, 0, 0, 0, 0, 1, 0, 0, 1, 0, 0, 1, 0, 0, 0, 0, 0, 0, 1, 1, 0, 0, 0, 0, 1, 0, 0, 1, 0, 0, 0, 0, 1, 0, 0, 1, 0, 0, 0, 0]\n",
      "--> Calculating Accuracy...\n",
      "Accuracy =  72.727 %\n",
      "The the count of true negatives is 44, false negatives is 15, true positives is 12, and false positives is 6\n",
      "*******************************************\n",
      "************    K =  20   *************\n",
      "******   Distance =  Chebyshev Distance *******\n",
      "--> Calculating KNN...\n",
      "[0, 0, 1, 1, 0, 0, 0, 1, 0, 1, 0, 0, 0, 0, 0, 1, 0, 0, 0, 0, 0, 0, 0, 0, 0, 0, 0, 0, 0, 0, 1, 1, 0, 0, 1, 0, 0, 1, 0, 0, 0, 0, 1, 0, 0, 1, 0, 0, 1, 0, 0, 0, 0, 0, 1, 1, 1, 0, 0, 0, 0, 1, 0, 0, 1, 0, 0, 0, 0, 1, 0, 0, 1, 0, 0, 0, 0]\n",
      "--> Calculating Accuracy...\n",
      "Accuracy =  74.026 %\n",
      "The the count of true negatives is 44, false negatives is 14, true positives is 13, and false positives is 6\n",
      "CPU times: user 10.6 s, sys: 264 ms, total: 10.8 s\n",
      "Wall time: 10.6 s\n"
     ]
    }
   ],
   "source": [
    "%%time\n",
    "x_axis = [x for x in range(1,21)]\n",
    "y_eu = []\n",
    "y_ma = []\n",
    "y_ch = []\n",
    "\n",
    "for x in range(1,21):\n",
    "        pred = knn(x,nX_train,nX_test,ny_train,ny_test,1)\n",
    "        y_eu.append(getAccuracy(ny_test,pred))\n",
    "        result=confusion_matrix(y_test,pred)  \n",
    "        print('The the count of true negatives is {}, false negatives is {}, true positives is {}, and false positives is {}'.format(result[0][0],result[1][0],result[1][1],result[0][1]))\n",
    "for x in range(1,21):\n",
    "        pred = knn(x,nX_train,nX_test,ny_train,ny_test,2)\n",
    "        y_ma.append(getAccuracy(ny_test,pred))\n",
    "        result=confusion_matrix(y_test,pred)  \n",
    "        print('The the count of true negatives is {}, false negatives is {}, true positives is {}, and false positives is {}'.format(result[0][0],result[1][0],result[1][1],result[0][1]))\n",
    "for x in range(1,21):\n",
    "        pred = knn(x,nX_train,nX_test,ny_train,ny_test,3)\n",
    "        y_ch.append(getAccuracy(ny_test,pred))\n",
    "        result=confusion_matrix(y_test,pred)  \n",
    "        print('The the count of true negatives is {}, false negatives is {}, true positives is {}, and false positives is {}'.format(result[0][0],result[1][0],result[1][1],result[0][1]))"
   ]
  },
  {
   "cell_type": "code",
   "execution_count": 22,
   "metadata": {},
   "outputs": [
    {
     "data": {
      "text/plain": [
       "Text(0.5, 1.0, 'Accuracy vary with k')"
      ]
     },
     "execution_count": 22,
     "metadata": {},
     "output_type": "execute_result"
    },
    {
     "data": {
      "image/png": "[encoded data removed]",
      "text/plain": [
       "<Figure size 576x288 with 1 Axes>"
      ]
     },
     "metadata": {
      "needs_background": "light"
     },
     "output_type": "display_data"
    }
   ],
   "source": [
    "plt.figure(figsize=(8,4))\n",
    "plt.plot(x_axis,y_eu,color = 'b',label = \"EulidianDistance\")\n",
    "plt.plot(x_axis,y_ma,color = 'g', label = \"ManhattenDistance\")\n",
    "plt.plot(x_axis,y_ch,color = 'r',label = \"ChebyshevDistance\")\n",
    "plt.legend()\n",
    "plt.xticks(x_axis)\n",
    "plt.xlabel(\"k\")\n",
    "plt.ylabel(\"Accuracy\")\n",
    "plt.title(\"Accuracy vary with k\")"
   ]
  }
 ],
 "metadata": {
  "kernelspec": {
   "display_name": "Python 3",
   "language": "python",
   "name": "python3"
  },
  "language_info": {
   "codemirror_mode": {
    "name": "ipython",
    "version": 3
   },
   "file_extension": ".py",
   "mimetype": "text/x-python",
   "name": "python",
   "nbconvert_exporter": "python",
   "pygments_lexer": "ipython3",
   "version": "3.7.4"
  }
 },
 "nbformat": 4,
 "nbformat_minor": 1
}
