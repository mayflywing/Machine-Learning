{
 "cells": [
  {
   "cell_type": "markdown",
   "metadata": {
    "_uuid": "0ee631d54ce4a24f7bd1e7db8dc9a49ee4c1b431"
   },
   "source": [
    "# **Simple K-NN**"
   ]
  },
  {
   "cell_type": "markdown",
   "metadata": {
    "_uuid": "b83ac4be1bceae6d1b3275b9baacc4da1882dba1"
   },
   "source": [
    "## The pakages I use"
   ]
  },
  {
   "cell_type": "code",
   "execution_count": 1,
   "metadata": {
    "_uuid": "6c9f1d1d86a34e8f14adcf24628d45ff1c4ae260"
   },
   "outputs": [
    {
     "name": "stdout",
     "output_type": "stream",
     "text": [
      "Populating the interactive namespace from numpy and matplotlib\n"
     ]
    }
   ],
   "source": [
    "import numpy as np\n",
    "import math\n",
    "import operator\n",
    "import pandas as pd\n",
    "import seaborn as sb\n",
    "from sklearn.preprocessing import Normalizer\n",
    "sb.set_style(\"dark\")\n",
    "import matplotlib.pyplot as plt\n",
    "from sklearn.model_selection import KFold\n",
    "from sklearn.ensemble import RandomForestClassifier\n",
    "from sklearn.model_selection import train_test_split\n",
    "from sklearn.neighbors import KNeighborsClassifier\n",
    "from sklearn.decomposition import PCA\n",
    "from sklearn.metrics import confusion_matrix\n",
    "import time\n",
    "\n",
    "%pylab inline"
   ]
  },
  {
   "cell_type": "code",
   "execution_count": 2,
   "metadata": {},
   "outputs": [],
   "source": [
    "'''\n",
    "EulidianDistance\n",
    "'''\n",
    "def euclidianDistance(list1, list2):\n",
    "    distance = 0\n",
    "    for x in range(len(list1)):\n",
    "        distance += pow(list1[x] - list2[x], 2)\n",
    "    return math.sqrt(distance)\n",
    "'''\n",
    "ManhattenDistance\n",
    "'''\n",
    "def manhattenDistance(list1, list2):\n",
    "    distance = 0\n",
    "    for x in range(len(list1)):\n",
    "        distance += abs(list1[x] - list2[x])\n",
    "    return distance\n",
    "'''\n",
    "ChebyshevDistance\n",
    "'''\n",
    "def chebyshevDistance(list1, list2):\n",
    "    distance = 0\n",
    "    for x in range(len(list1)):\n",
    "        distance = max(distance,abs(list1[x] - list2[x]))\n",
    "    return distance\n",
    "       \n",
    "'''\n",
    "    calculate the distance using 3 diffirent functions\n",
    "    return the top k neighbors\n",
    "'''\n",
    "def getNeighbors(train_set,y_train,test_sample, k, function =1):\n",
    "    #1 = EulidianDistance 2 = ManhattenDistance 3 = ChebyshevDistance\n",
    "    distances = []\n",
    "    neighbors = []\n",
    "\n",
    "    for x in range(len(train_set)):\n",
    "        if(function==1):\n",
    "            dist = euclidianDistance(test_sample, train_set[x])\n",
    "        elif(function==2):\n",
    "            dist = manhattenDistance(test_sample, train_set[x])\n",
    "        elif(function==3):\n",
    "            dist = chebyshevDistance(test_sample, train_set[x])\n",
    "        else:\n",
    "            dist = 0;\n",
    "        \n",
    "        distances.append((y_train[x], dist))\n",
    "\n",
    "    distances.sort(key=operator.itemgetter(1))\n",
    "    #print(distances)\n",
    "\n",
    "    for x in range(k):\n",
    "        neighbors.append(distances[x][0])\n",
    "\n",
    "    return neighbors\n",
    "\n",
    "def getLabel(neighbors):\n",
    "    classVotes = {}\n",
    "    for x in range(len(neighbors)):\n",
    "        response = neighbors[x]\n",
    "        if response in classVotes:\n",
    "            classVotes[response] += 1\n",
    "        else:\n",
    "            classVotes[response] = 1\n",
    "    sortedVotes = sorted(classVotes.items(),key=lambda kv: kv[1],reverse = True)\n",
    "    return sortedVotes[0][0]\n",
    "\n",
    "'''\n",
    "    calculates the accuarcy of predictions by taking\n",
    "    a ratio of total correct prediction out of all predictions\n",
    "'''\n",
    "def getAccuracy(testSet, predictions):\n",
    "    correct = 0\n",
    "    for x in range(len(testSet)):\n",
    "        if testSet[x] == predictions[x]:\n",
    "            correct += 1\n",
    "    return round((correct/float(len(testSet))) * 100.0, 3)\n",
    "\n",
    "def knn(k, X_train,X_test,y_train,y_test,function=1):\n",
    "    #X= features y= outcome\n",
    "    #1 = EulidianDistance 2 = ManhattenDistance 3 = ChebyshevDistance\n",
    "    if(function==1):\n",
    "        distanceType=\"Eulidian Distance\"\n",
    "    elif(function==2):\n",
    "        distanceType=\"Manhatten Distance\"\n",
    "    elif(function==3):\n",
    "        distanceType=\"Chebyshev Distance\"\n",
    "    else:\n",
    "        distanceType = \"error\"\n",
    "    print('*******************************************')\n",
    "    print('************    K = ', k , '  *************')\n",
    "    print('******   Distance = ',distanceType,'*******')\n",
    "    predictions = []\n",
    "\n",
    "    print('--> Calculating KNN...')\n",
    "    for test_sample in X_test:\n",
    "        neighbors = getNeighbors(X_train, y_train,test_sample, k,function)\n",
    "        neighbors_prediction = getLabel(neighbors)\n",
    "        predictions.append(neighbors_prediction)\n",
    "        \n",
    "    print(predictions)    \n",
    "    print('--> Calculating Accuracy...')\n",
    "    accuracy = getAccuracy(y_test,predictions)\n",
    "    print('Accuracy = ', accuracy, '%')\n",
    "    \n",
    "    return predictions"
   ]
  },
  {
   "cell_type": "code",
   "execution_count": 3,
   "metadata": {
    "_uuid": "0971c38ec34c78b8a1c850ca7a5a73f7a9da3039"
   },
   "outputs": [
    {
     "name": "stdout",
     "output_type": "stream",
     "text": [
      "CPU times: user 4.99 s, sys: 1.16 s, total: 6.15 s\n",
      "Wall time: 6.18 s\n"
     ]
    }
   ],
   "source": [
    "%%time\n",
    "train_df=pd.read_csv(\"../input/digit-recognizer/train.csv\")\n",
    "test_df=pd.read_csv(\"../input/digit-recognizer/test.csv\")"
   ]
  },
  {
   "cell_type": "code",
   "execution_count": 4,
   "metadata": {
    "_uuid": "8b9f29a6c7e898e01811e9caabe9b80e9cd7c87d"
   },
   "outputs": [
    {
     "data": {
      "text/plain": [
       "count    785.0\n",
       "mean       0.0\n",
       "std        0.0\n",
       "min        0.0\n",
       "25%        0.0\n",
       "50%        0.0\n",
       "75%        0.0\n",
       "max        0.0\n",
       "dtype: float64"
      ]
     },
     "execution_count": 4,
     "metadata": {},
     "output_type": "execute_result"
    }
   ],
   "source": [
    "train_df.isnull().sum().describe()"
   ]
  },
  {
   "cell_type": "code",
   "execution_count": 5,
   "metadata": {
    "_uuid": "b917e9687a6576987f4535a48e1b8d9b477ae463"
   },
   "outputs": [
    {
     "data": {
      "text/html": [
       "<div>\n",
       "<style scoped>\n",
       "    .dataframe tbody tr th:only-of-type {\n",
       "        vertical-align: middle;\n",
       "    }\n",
       "\n",
       "    .dataframe tbody tr th {\n",
       "        vertical-align: top;\n",
       "    }\n",
       "\n",
       "    .dataframe thead th {\n",
       "        text-align: right;\n",
       "    }\n",
       "</style>\n",
       "<table border=\"1\" class=\"dataframe\">\n",
       "  <thead>\n",
       "    <tr style=\"text-align: right;\">\n",
       "      <th></th>\n",
       "      <th>label</th>\n",
       "      <th>pixel0</th>\n",
       "      <th>pixel1</th>\n",
       "      <th>pixel2</th>\n",
       "      <th>pixel3</th>\n",
       "      <th>pixel4</th>\n",
       "      <th>pixel5</th>\n",
       "      <th>pixel6</th>\n",
       "      <th>pixel7</th>\n",
       "      <th>pixel8</th>\n",
       "      <th>...</th>\n",
       "      <th>pixel774</th>\n",
       "      <th>pixel775</th>\n",
       "      <th>pixel776</th>\n",
       "      <th>pixel777</th>\n",
       "      <th>pixel778</th>\n",
       "      <th>pixel779</th>\n",
       "      <th>pixel780</th>\n",
       "      <th>pixel781</th>\n",
       "      <th>pixel782</th>\n",
       "      <th>pixel783</th>\n",
       "    </tr>\n",
       "  </thead>\n",
       "  <tbody>\n",
       "    <tr>\n",
       "      <td>count</td>\n",
       "      <td>42000.000000</td>\n",
       "      <td>42000.0</td>\n",
       "      <td>42000.0</td>\n",
       "      <td>42000.0</td>\n",
       "      <td>42000.0</td>\n",
       "      <td>42000.0</td>\n",
       "      <td>42000.0</td>\n",
       "      <td>42000.0</td>\n",
       "      <td>42000.0</td>\n",
       "      <td>42000.0</td>\n",
       "      <td>...</td>\n",
       "      <td>42000.000000</td>\n",
       "      <td>42000.000000</td>\n",
       "      <td>42000.000000</td>\n",
       "      <td>42000.00000</td>\n",
       "      <td>42000.000000</td>\n",
       "      <td>42000.000000</td>\n",
       "      <td>42000.0</td>\n",
       "      <td>42000.0</td>\n",
       "      <td>42000.0</td>\n",
       "      <td>42000.0</td>\n",
       "    </tr>\n",
       "    <tr>\n",
       "      <td>mean</td>\n",
       "      <td>4.456643</td>\n",
       "      <td>0.0</td>\n",
       "      <td>0.0</td>\n",
       "      <td>0.0</td>\n",
       "      <td>0.0</td>\n",
       "      <td>0.0</td>\n",
       "      <td>0.0</td>\n",
       "      <td>0.0</td>\n",
       "      <td>0.0</td>\n",
       "      <td>0.0</td>\n",
       "      <td>...</td>\n",
       "      <td>0.219286</td>\n",
       "      <td>0.117095</td>\n",
       "      <td>0.059024</td>\n",
       "      <td>0.02019</td>\n",
       "      <td>0.017238</td>\n",
       "      <td>0.002857</td>\n",
       "      <td>0.0</td>\n",
       "      <td>0.0</td>\n",
       "      <td>0.0</td>\n",
       "      <td>0.0</td>\n",
       "    </tr>\n",
       "    <tr>\n",
       "      <td>std</td>\n",
       "      <td>2.887730</td>\n",
       "      <td>0.0</td>\n",
       "      <td>0.0</td>\n",
       "      <td>0.0</td>\n",
       "      <td>0.0</td>\n",
       "      <td>0.0</td>\n",
       "      <td>0.0</td>\n",
       "      <td>0.0</td>\n",
       "      <td>0.0</td>\n",
       "      <td>0.0</td>\n",
       "      <td>...</td>\n",
       "      <td>6.312890</td>\n",
       "      <td>4.633819</td>\n",
       "      <td>3.274488</td>\n",
       "      <td>1.75987</td>\n",
       "      <td>1.894498</td>\n",
       "      <td>0.414264</td>\n",
       "      <td>0.0</td>\n",
       "      <td>0.0</td>\n",
       "      <td>0.0</td>\n",
       "      <td>0.0</td>\n",
       "    </tr>\n",
       "    <tr>\n",
       "      <td>min</td>\n",
       "      <td>0.000000</td>\n",
       "      <td>0.0</td>\n",
       "      <td>0.0</td>\n",
       "      <td>0.0</td>\n",
       "      <td>0.0</td>\n",
       "      <td>0.0</td>\n",
       "      <td>0.0</td>\n",
       "      <td>0.0</td>\n",
       "      <td>0.0</td>\n",
       "      <td>0.0</td>\n",
       "      <td>...</td>\n",
       "      <td>0.000000</td>\n",
       "      <td>0.000000</td>\n",
       "      <td>0.000000</td>\n",
       "      <td>0.00000</td>\n",
       "      <td>0.000000</td>\n",
       "      <td>0.000000</td>\n",
       "      <td>0.0</td>\n",
       "      <td>0.0</td>\n",
       "      <td>0.0</td>\n",
       "      <td>0.0</td>\n",
       "    </tr>\n",
       "    <tr>\n",
       "      <td>25%</td>\n",
       "      <td>2.000000</td>\n",
       "      <td>0.0</td>\n",
       "      <td>0.0</td>\n",
       "      <td>0.0</td>\n",
       "      <td>0.0</td>\n",
       "      <td>0.0</td>\n",
       "      <td>0.0</td>\n",
       "      <td>0.0</td>\n",
       "      <td>0.0</td>\n",
       "      <td>0.0</td>\n",
       "      <td>...</td>\n",
       "      <td>0.000000</td>\n",
       "      <td>0.000000</td>\n",
       "      <td>0.000000</td>\n",
       "      <td>0.00000</td>\n",
       "      <td>0.000000</td>\n",
       "      <td>0.000000</td>\n",
       "      <td>0.0</td>\n",
       "      <td>0.0</td>\n",
       "      <td>0.0</td>\n",
       "      <td>0.0</td>\n",
       "    </tr>\n",
       "    <tr>\n",
       "      <td>50%</td>\n",
       "      <td>4.000000</td>\n",
       "      <td>0.0</td>\n",
       "      <td>0.0</td>\n",
       "      <td>0.0</td>\n",
       "      <td>0.0</td>\n",
       "      <td>0.0</td>\n",
       "      <td>0.0</td>\n",
       "      <td>0.0</td>\n",
       "      <td>0.0</td>\n",
       "      <td>0.0</td>\n",
       "      <td>...</td>\n",
       "      <td>0.000000</td>\n",
       "      <td>0.000000</td>\n",
       "      <td>0.000000</td>\n",
       "      <td>0.00000</td>\n",
       "      <td>0.000000</td>\n",
       "      <td>0.000000</td>\n",
       "      <td>0.0</td>\n",
       "      <td>0.0</td>\n",
       "      <td>0.0</td>\n",
       "      <td>0.0</td>\n",
       "    </tr>\n",
       "    <tr>\n",
       "      <td>75%</td>\n",
       "      <td>7.000000</td>\n",
       "      <td>0.0</td>\n",
       "      <td>0.0</td>\n",
       "      <td>0.0</td>\n",
       "      <td>0.0</td>\n",
       "      <td>0.0</td>\n",
       "      <td>0.0</td>\n",
       "      <td>0.0</td>\n",
       "      <td>0.0</td>\n",
       "      <td>0.0</td>\n",
       "      <td>...</td>\n",
       "      <td>0.000000</td>\n",
       "      <td>0.000000</td>\n",
       "      <td>0.000000</td>\n",
       "      <td>0.00000</td>\n",
       "      <td>0.000000</td>\n",
       "      <td>0.000000</td>\n",
       "      <td>0.0</td>\n",
       "      <td>0.0</td>\n",
       "      <td>0.0</td>\n",
       "      <td>0.0</td>\n",
       "    </tr>\n",
       "    <tr>\n",
       "      <td>max</td>\n",
       "      <td>9.000000</td>\n",
       "      <td>0.0</td>\n",
       "      <td>0.0</td>\n",
       "      <td>0.0</td>\n",
       "      <td>0.0</td>\n",
       "      <td>0.0</td>\n",
       "      <td>0.0</td>\n",
       "      <td>0.0</td>\n",
       "      <td>0.0</td>\n",
       "      <td>0.0</td>\n",
       "      <td>...</td>\n",
       "      <td>254.000000</td>\n",
       "      <td>254.000000</td>\n",
       "      <td>253.000000</td>\n",
       "      <td>253.00000</td>\n",
       "      <td>254.000000</td>\n",
       "      <td>62.000000</td>\n",
       "      <td>0.0</td>\n",
       "      <td>0.0</td>\n",
       "      <td>0.0</td>\n",
       "      <td>0.0</td>\n",
       "    </tr>\n",
       "  </tbody>\n",
       "</table>\n",
       "<p>8 rows × 785 columns</p>\n",
       "</div>"
      ],
      "text/plain": [
       "              label   pixel0   pixel1   pixel2   pixel3   pixel4   pixel5  \\\n",
       "count  42000.000000  42000.0  42000.0  42000.0  42000.0  42000.0  42000.0   \n",
       "mean       4.456643      0.0      0.0      0.0      0.0      0.0      0.0   \n",
       "std        2.887730      0.0      0.0      0.0      0.0      0.0      0.0   \n",
       "min        0.000000      0.0      0.0      0.0      0.0      0.0      0.0   \n",
       "25%        2.000000      0.0      0.0      0.0      0.0      0.0      0.0   \n",
       "50%        4.000000      0.0      0.0      0.0      0.0      0.0      0.0   \n",
       "75%        7.000000      0.0      0.0      0.0      0.0      0.0      0.0   \n",
       "max        9.000000      0.0      0.0      0.0      0.0      0.0      0.0   \n",
       "\n",
       "        pixel6   pixel7   pixel8  ...      pixel774      pixel775  \\\n",
       "count  42000.0  42000.0  42000.0  ...  42000.000000  42000.000000   \n",
       "mean       0.0      0.0      0.0  ...      0.219286      0.117095   \n",
       "std        0.0      0.0      0.0  ...      6.312890      4.633819   \n",
       "min        0.0      0.0      0.0  ...      0.000000      0.000000   \n",
       "25%        0.0      0.0      0.0  ...      0.000000      0.000000   \n",
       "50%        0.0      0.0      0.0  ...      0.000000      0.000000   \n",
       "75%        0.0      0.0      0.0  ...      0.000000      0.000000   \n",
       "max        0.0      0.0      0.0  ...    254.000000    254.000000   \n",
       "\n",
       "           pixel776     pixel777      pixel778      pixel779  pixel780  \\\n",
       "count  42000.000000  42000.00000  42000.000000  42000.000000   42000.0   \n",
       "mean       0.059024      0.02019      0.017238      0.002857       0.0   \n",
       "std        3.274488      1.75987      1.894498      0.414264       0.0   \n",
       "min        0.000000      0.00000      0.000000      0.000000       0.0   \n",
       "25%        0.000000      0.00000      0.000000      0.000000       0.0   \n",
       "50%        0.000000      0.00000      0.000000      0.000000       0.0   \n",
       "75%        0.000000      0.00000      0.000000      0.000000       0.0   \n",
       "max      253.000000    253.00000    254.000000     62.000000       0.0   \n",
       "\n",
       "       pixel781  pixel782  pixel783  \n",
       "count   42000.0   42000.0   42000.0  \n",
       "mean        0.0       0.0       0.0  \n",
       "std         0.0       0.0       0.0  \n",
       "min         0.0       0.0       0.0  \n",
       "25%         0.0       0.0       0.0  \n",
       "50%         0.0       0.0       0.0  \n",
       "75%         0.0       0.0       0.0  \n",
       "max         0.0       0.0       0.0  \n",
       "\n",
       "[8 rows x 785 columns]"
      ]
     },
     "execution_count": 5,
     "metadata": {},
     "output_type": "execute_result"
    }
   ],
   "source": [
    "train_df.describe()"
   ]
  },
  {
   "cell_type": "code",
   "execution_count": 6,
   "metadata": {
    "_uuid": "c24bbb28849e55dece9ed17b1df2f6ef15b196b0"
   },
   "outputs": [
    {
     "data": {
      "text/plain": [
       "(42000, 785)"
      ]
     },
     "execution_count": 6,
     "metadata": {},
     "output_type": "execute_result"
    }
   ],
   "source": [
    "train_df.shape"
   ]
  },
  {
   "cell_type": "code",
   "execution_count": 7,
   "metadata": {
    "_uuid": "9d6ccbff280ef6324702fed556fe1ebc2048f49f"
   },
   "outputs": [],
   "source": [
    "target=train_df['label']\n",
    "train_df=train_df.drop('label',axis=1)"
   ]
  },
  {
   "cell_type": "code",
   "execution_count": 8,
   "metadata": {
    "_uuid": "9eeb80ecf217de68527484ddfe0f3a2800fbc569"
   },
   "outputs": [
    {
     "name": "stderr",
     "output_type": "stream",
     "text": [
      "/opt/conda/lib/python3.6/site-packages/ipykernel_launcher.py:4: FutureWarning: Method .as_matrix will be removed in a future version. Use .values instead.\n",
      "  after removing the cwd from sys.path.\n"
     ]
    },
    {
     "data": {
      "image/png": "[encoded data removed]",
      "text/plain": [
       "<Figure size 216x216 with 81 Axes>"
      ]
     },
     "metadata": {},
     "output_type": "display_data"
    }
   ],
   "source": [
    "figure(figsize(3,3))\n",
    "for digit_num in range(0,81):\n",
    "    subplot(9,9,digit_num+1)\n",
    "    grid_data = train_df.iloc[digit_num].as_matrix().reshape(28,28)  # reshape from 1d to 2d pixel array\n",
    "    plt.imshow(grid_data, interpolation = \"none\", cmap = \"bone_r\")\n",
    "    xticks([])\n",
    "    yticks([])"
   ]
  },
  {
   "cell_type": "code",
   "execution_count": 9,
   "metadata": {
    "_uuid": "4edbcd82a07fe27c3dc9a6c7149398d8186a365b"
   },
   "outputs": [
    {
     "data": {
      "text/plain": [
       "<matplotlib.axes._subplots.AxesSubplot at 0x7f07b75662e8>"
      ]
     },
     "execution_count": 9,
     "metadata": {},
     "output_type": "execute_result"
    },
    {
     "data": {
      "image/png": "[encoded data removed]",
      "text/plain": [
       "<Figure size 216x216 with 1 Axes>"
      ]
     },
     "metadata": {
      "needs_background": "light"
     },
     "output_type": "display_data"
    }
   ],
   "source": [
    "target.hist()"
   ]
  },
  {
   "cell_type": "markdown",
   "metadata": {
    "_uuid": "eaa97d0715add612d6ba95063571438b03e0075c"
   },
   "source": [
    "## Scaling the data\n",
    " \n",
    "As the data have very different range of value, we need to scal the data to make it easy to train."
   ]
  },
  {
   "cell_type": "code",
   "execution_count": 10,
   "metadata": {
    "_uuid": "3029c59687ab4734a51588923924fec820e27acd"
   },
   "outputs": [],
   "source": [
    "norm = Normalizer().fit(train_df)\n",
    "train_df = norm.transform(train_df)\n",
    "test_df = norm.transform(test_df)"
   ]
  },
  {
   "cell_type": "code",
   "execution_count": 11,
   "metadata": {
    "_uuid": "bd3d9c07f9c9e6f525c7f398985f94318975f76c"
   },
   "outputs": [],
   "source": [
    "train_df = pd.DataFrame(train_df)\n",
    "test_df= pd.DataFrame(test_df)"
   ]
  },
  {
   "cell_type": "code",
   "execution_count": 12,
   "metadata": {
    "_uuid": "4ab76797b5bd8d2283345278c7a1b45b5312f07d"
   },
   "outputs": [
    {
     "data": {
      "text/plain": [
       "PCA(copy=True, iterated_power='auto', n_components=784, random_state=0,\n",
       "    svd_solver='randomized', tol=0.0, whiten=False)"
      ]
     },
     "execution_count": 12,
     "metadata": {},
     "output_type": "execute_result"
    }
   ],
   "source": [
    "pca = PCA(n_components=784, random_state=0, svd_solver='randomized')\n",
    "pca.fit(train_df)"
   ]
  },
  {
   "cell_type": "code",
   "execution_count": 13,
   "metadata": {
    "_uuid": "c00b33dfd35f8499165c368e4048963c7c934748"
   },
   "outputs": [
    {
     "data": {
      "image/png": "[encoded data removed]",
      "text/plain": [
       "<Figure size 216x216 with 1 Axes>"
      ]
     },
     "metadata": {
      "needs_background": "light"
     },
     "output_type": "display_data"
    }
   ],
   "source": [
    "plt.plot(np.cumsum(pca.explained_variance_ratio_))\n",
    "plt.ylim(0.9, 1.0)\n",
    "plt.grid()"
   ]
  },
  {
   "cell_type": "markdown",
   "metadata": {
    "_uuid": "f90a5230d1aa896963644e943e1073982979290f"
   },
   "source": [
    "From the PCA , we can compress the data set as only 100 features can represent 92% of the data set."
   ]
  },
  {
   "cell_type": "code",
   "execution_count": 14,
   "metadata": {
    "_uuid": "1f07b439ff94dce3247144fb3552257fb6ff0a0d"
   },
   "outputs": [],
   "source": [
    "def pca(X_tr, X_ts, test,n):\n",
    "    pca = PCA(n)\n",
    "    pca.fit(X_tr)\n",
    "    X_tr_pca = pca.transform(X_tr)\n",
    "    X_ts_pca = pca.transform(X_ts)\n",
    "    test_pca = pca.transform(test)\n",
    "    return X_tr_pca, X_ts_pca, test_pca"
   ]
  },
  {
   "cell_type": "code",
   "execution_count": 15,
   "metadata": {
    "_uuid": "33ddb95f3045a33ebc77a5fb9e9eb3911132aa1b"
   },
   "outputs": [],
   "source": [
    "X_train, X_test, y_train, y_test = train_test_split(train_df, target,\n",
    "    test_size=0.1, random_state=2)"
   ]
  },
  {
   "cell_type": "code",
   "execution_count": 16,
   "metadata": {
    "_uuid": "84be39b7003234fe4b344e46bfc835ae44315037"
   },
   "outputs": [],
   "source": [
    "test_num=y_test[(y_test==8)].index\n",
    "num=len(test_num)"
   ]
  },
  {
   "cell_type": "code",
   "execution_count": 17,
   "metadata": {
    "_uuid": "f41a2c8196cb1386f5760ebb4f8df3add8c13803"
   },
   "outputs": [],
   "source": [
    "X_num8_test=X_test.loc[test_num]"
   ]
  },
  {
   "cell_type": "code",
   "execution_count": 18,
   "metadata": {
    "_uuid": "0b61306cef3cfd5a3d82a5d3f5d120c71aa933ed"
   },
   "outputs": [
    {
     "name": "stdout",
     "output_type": "stream",
     "text": [
      "CPU times: user 4.86 s, sys: 492 ms, total: 5.35 s\n",
      "Wall time: 3.16 s\n"
     ]
    }
   ],
   "source": [
    "%%time\n",
    "X_train_pca, X_test_pca,test_num8_pca = pca(X_train, X_test, X_num8_test,100)\n",
    "#print (type(X_train_pca))"
   ]
  },
  {
   "cell_type": "code",
   "execution_count": 19,
   "metadata": {
    "_uuid": "a3cd53637a949fead168a7d5fd5e66269fa0f3bf",
    "scrolled": true
   },
   "outputs": [
    {
     "name": "stdout",
     "output_type": "stream",
     "text": [
      "CPU times: user 53 s, sys: 48 ms, total: 53 s\n",
      "Wall time: 53 s\n"
     ]
    }
   ],
   "source": [
    "%%time\n",
    "nX_train  = pd.DataFrame(X_train_pca).values.tolist()\n",
    "nX_test  = pd.DataFrame(X_test_pca).values.tolist()\n",
    "ny_train  = y_train.values.tolist()\n",
    "ny_test  = y_test.values.tolist()\n",
    "\n",
    "\n",
    "pred = knn(5,nX_train,nX_test,ny_train,ny_test,2)\n",
    "\n",
    "#model = KNeighborsClassifier(n_neighbors = 5, weights='distance')\n",
    "#model.fit(X_train_pca, y_train)\n",
    "#score = model.score(X_test_pca, y_test)\n",
    "#print ('KNN ', score)\n",
    "#pred = model.predict(X_test_pca)\n"
   ]
  },
  {
   "cell_type": "markdown",
   "metadata": {
    "_uuid": "b2fad9aa41743bec63ce02d513c3afefabc24053"
   },
   "source": [
    "The confusion matrix is :"
   ]
  },
  {
   "cell_type": "code",
   "execution_count": 20,
   "metadata": {
    "_uuid": "005b9568d0461aed19e57bf5786c733f29c9ed78"
   },
   "outputs": [
    {
     "data": {
      "text/plain": [
       "array([[410,   0,   0,   0,   0,   0,   1,   0,   0,   0],\n",
       "       [  0, 481,   1,   1,   0,   0,   0,   1,   1,   0],\n",
       "       [  2,   0, 396,   0,   0,   0,   2,   1,   1,   1],\n",
       "       [  0,   1,   1, 404,   0,   4,   0,   0,   7,   1],\n",
       "       [  0,   2,   0,   0, 447,   0,   3,   1,   0,   8],\n",
       "       [  2,   0,   0,   3,   0, 357,   5,   0,   2,   3],\n",
       "       [  4,   1,   0,   0,   0,   1, 407,   0,   0,   0],\n",
       "       [  1,   4,   3,   0,   1,   0,   0, 428,   0,   9],\n",
       "       [  0,   4,   1,   2,   0,   1,   1,   1, 367,   5],\n",
       "       [  2,   0,   0,   2,   3,   1,   0,   2,   0, 399]])"
      ]
     },
     "execution_count": 20,
     "metadata": {},
     "output_type": "execute_result"
    }
   ],
   "source": [
    "confusion_matrix(y_test,pred)"
   ]
  },
  {
   "cell_type": "markdown",
   "metadata": {
    "_uuid": "030a9b178fd33d1da15d0059d355c9bc9daccd2c"
   },
   "source": [
    "## The number 8's accuracy change with the i"
   ]
  },
  {
   "cell_type": "code",
   "execution_count": 21,
   "metadata": {
    "_uuid": "33498458eb3f7ca9154848a2066f8e17b0ace21d"
   },
   "outputs": [],
   "source": [
    "y_8=[8]*num"
   ]
  },
  {
   "cell_type": "code",
   "execution_count": 22,
   "metadata": {
    "_uuid": "94361ff1767d77a0e1b05aa1fd15b84b67bc3a05"
   },
   "outputs": [
    {
     "name": "stdout",
     "output_type": "stream",
     "text": [
      "The accuracy of number 8s 1NN score is :0.9581151832460733 \n",
      "The accuracy of number 8s 2NN score is :0.9581151832460733 \n",
      "The accuracy of number 8s 3NN score is :0.9554973821989529 \n",
      "The accuracy of number 8s 4NN score is :0.9581151832460733 \n",
      "The accuracy of number 8s 5NN score is :0.9607329842931938 \n",
      "The accuracy of number 8s 6NN score is :0.9581151832460733 \n",
      "The accuracy of number 8s 7NN score is :0.9607329842931938 \n",
      "The accuracy of number 8s 8NN score is :0.9581151832460733 \n",
      "The accuracy of number 8s 9NN score is :0.9581151832460733 \n",
      "The accuracy of number 8s 10NN score is :0.9607329842931938 \n",
      "The accuracy of number 8s 11NN score is :0.9502617801047121 \n",
      "The accuracy of number 8s 12NN score is :0.9554973821989529 \n",
      "The accuracy of number 8s 13NN score is :0.9528795811518325 \n",
      "The accuracy of number 8s 14NN score is :0.9528795811518325 \n",
      "The accuracy of number 8s 15NN score is :0.9528795811518325 \n",
      "The accuracy of number 8s 16NN score is :0.9554973821989529 \n",
      "The accuracy of number 8s 17NN score is :0.9554973821989529 \n",
      "The accuracy of number 8s 18NN score is :0.9554973821989529 \n",
      "The accuracy of number 8s 19NN score is :0.9528795811518325 \n",
      "The accuracy of number 8s 20NN score is :0.9528795811518325 \n",
      "CPU times: user 2min 30s, sys: 36 ms, total: 2min 30s\n",
      "Wall time: 2min 30s\n"
     ]
    }
   ],
   "source": [
    "%%time\n",
    "x_axis = [x for x in range(1,21)]\n",
    "y_axis = []\n",
    "scores = []\n",
    "for i in range(1,21):\n",
    "    model=KNeighborsClassifier(n_neighbors = i, weights='distance')\n",
    "    model.fit(X_train_pca, y_train)\n",
    "    score = model.score(test_num8_pca , y_8)\n",
    "    scores.append((i,score))\n",
    "    y_axis.append(score)\n",
    "    print ('The accuracy of number 8''s {}NN score is :{} '.format(i,score))\n"
   ]
  },
  {
   "cell_type": "code",
   "execution_count": 23,
   "metadata": {},
   "outputs": [
    {
     "name": "stdout",
     "output_type": "stream",
     "text": [
      "when k = 5, the accuracy is the highest.\n"
     ]
    },
    {
     "data": {
      "image/png": "[encoded data removed]",
      "text/plain": [
       "<Figure size 576x288 with 1 Axes>"
      ]
     },
     "metadata": {
      "needs_background": "light"
     },
     "output_type": "display_data"
    }
   ],
   "source": [
    "plt.figure(figsize=(8,4))\n",
    "plt.plot(x_axis,y_axis)\n",
    "plt.xticks(x_axis)\n",
    "plt.xlabel(\"k\")\n",
    "plt.ylabel(\"Accuracy\")\n",
    "plt.title(\"Single digit '8'\")\n",
    "\n",
    "scores.sort(key=operator.itemgetter(1),reverse = True)\n",
    "print ('when k = {}, the accuracy is the highest.'.format(scores[0][0]))"
   ]
  },
  {
   "cell_type": "code",
   "execution_count": null,
   "metadata": {},
   "outputs": [],
   "source": []
  }
 ],
 "metadata": {
  "kernelspec": {
   "display_name": "Python 3",
   "language": "python",
   "name": "python3"
  },
  "language_info": {
   "codemirror_mode": {
    "name": "ipython",
    "version": 3
   },
   "file_extension": ".py",
   "mimetype": "text/x-python",
   "name": "python",
   "nbconvert_exporter": "python",
   "pygments_lexer": "ipython3",
   "version": "3.7.4"
  }
 },
 "nbformat": 4,
 "nbformat_minor": 1
}
